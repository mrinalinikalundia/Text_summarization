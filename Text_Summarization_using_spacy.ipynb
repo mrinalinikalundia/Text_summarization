{
  "nbformat": 4,
  "nbformat_minor": 0,
  "metadata": {
    "colab": {
      "provenance": []
    },
    "kernelspec": {
      "name": "python3",
      "display_name": "Python 3"
    },
    "language_info": {
      "name": "python"
    }
  },
  "cells": [
    {
      "cell_type": "code",
      "execution_count": 1,
      "metadata": {
        "colab": {
          "base_uri": "https://localhost:8080/"
        },
        "id": "1Le_5Z3_g924",
        "outputId": "9b558344-9917-4f35-dab6-ad82a49c07b6"
      },
      "outputs": [
        {
          "output_type": "stream",
          "name": "stdout",
          "text": [
            "Looking in indexes: https://pypi.org/simple, https://us-python.pkg.dev/colab-wheels/public/simple/\n",
            "Requirement already satisfied: spacy in /usr/local/lib/python3.8/dist-packages (3.4.4)\n",
            "Requirement already satisfied: setuptools in /usr/local/lib/python3.8/dist-packages (from spacy) (57.4.0)\n",
            "Requirement already satisfied: tqdm<5.0.0,>=4.38.0 in /usr/local/lib/python3.8/dist-packages (from spacy) (4.64.1)\n",
            "Requirement already satisfied: pathy>=0.3.5 in /usr/local/lib/python3.8/dist-packages (from spacy) (0.10.1)\n",
            "Requirement already satisfied: pydantic!=1.8,!=1.8.1,<1.11.0,>=1.7.4 in /usr/local/lib/python3.8/dist-packages (from spacy) (1.10.2)\n",
            "Requirement already satisfied: langcodes<4.0.0,>=3.2.0 in /usr/local/lib/python3.8/dist-packages (from spacy) (3.3.0)\n",
            "Requirement already satisfied: srsly<3.0.0,>=2.4.3 in /usr/local/lib/python3.8/dist-packages (from spacy) (2.4.5)\n",
            "Requirement already satisfied: jinja2 in /usr/local/lib/python3.8/dist-packages (from spacy) (2.11.3)\n",
            "Requirement already satisfied: smart-open<7.0.0,>=5.2.1 in /usr/local/lib/python3.8/dist-packages (from spacy) (6.3.0)\n",
            "Requirement already satisfied: typer<0.8.0,>=0.3.0 in /usr/local/lib/python3.8/dist-packages (from spacy) (0.7.0)\n",
            "Requirement already satisfied: packaging>=20.0 in /usr/local/lib/python3.8/dist-packages (from spacy) (21.3)\n",
            "Requirement already satisfied: wasabi<1.1.0,>=0.9.1 in /usr/local/lib/python3.8/dist-packages (from spacy) (0.10.1)\n",
            "Requirement already satisfied: thinc<8.2.0,>=8.1.0 in /usr/local/lib/python3.8/dist-packages (from spacy) (8.1.5)\n",
            "Requirement already satisfied: murmurhash<1.1.0,>=0.28.0 in /usr/local/lib/python3.8/dist-packages (from spacy) (1.0.9)\n",
            "Requirement already satisfied: numpy>=1.15.0 in /usr/local/lib/python3.8/dist-packages (from spacy) (1.21.6)\n",
            "Requirement already satisfied: catalogue<2.1.0,>=2.0.6 in /usr/local/lib/python3.8/dist-packages (from spacy) (2.0.8)\n",
            "Requirement already satisfied: spacy-loggers<2.0.0,>=1.0.0 in /usr/local/lib/python3.8/dist-packages (from spacy) (1.0.4)\n",
            "Requirement already satisfied: preshed<3.1.0,>=3.0.2 in /usr/local/lib/python3.8/dist-packages (from spacy) (3.0.8)\n",
            "Requirement already satisfied: spacy-legacy<3.1.0,>=3.0.10 in /usr/local/lib/python3.8/dist-packages (from spacy) (3.0.10)\n",
            "Requirement already satisfied: requests<3.0.0,>=2.13.0 in /usr/local/lib/python3.8/dist-packages (from spacy) (2.23.0)\n",
            "Requirement already satisfied: cymem<2.1.0,>=2.0.2 in /usr/local/lib/python3.8/dist-packages (from spacy) (2.0.7)\n",
            "Requirement already satisfied: pyparsing!=3.0.5,>=2.0.2 in /usr/local/lib/python3.8/dist-packages (from packaging>=20.0->spacy) (3.0.9)\n",
            "Requirement already satisfied: typing-extensions>=4.1.0 in /usr/local/lib/python3.8/dist-packages (from pydantic!=1.8,!=1.8.1,<1.11.0,>=1.7.4->spacy) (4.4.0)\n",
            "Requirement already satisfied: idna<3,>=2.5 in /usr/local/lib/python3.8/dist-packages (from requests<3.0.0,>=2.13.0->spacy) (2.10)\n",
            "Requirement already satisfied: chardet<4,>=3.0.2 in /usr/local/lib/python3.8/dist-packages (from requests<3.0.0,>=2.13.0->spacy) (3.0.4)\n",
            "Requirement already satisfied: urllib3!=1.25.0,!=1.25.1,<1.26,>=1.21.1 in /usr/local/lib/python3.8/dist-packages (from requests<3.0.0,>=2.13.0->spacy) (1.24.3)\n",
            "Requirement already satisfied: certifi>=2017.4.17 in /usr/local/lib/python3.8/dist-packages (from requests<3.0.0,>=2.13.0->spacy) (2022.12.7)\n",
            "Requirement already satisfied: confection<1.0.0,>=0.0.1 in /usr/local/lib/python3.8/dist-packages (from thinc<8.2.0,>=8.1.0->spacy) (0.0.3)\n",
            "Requirement already satisfied: blis<0.8.0,>=0.7.8 in /usr/local/lib/python3.8/dist-packages (from thinc<8.2.0,>=8.1.0->spacy) (0.7.9)\n",
            "Requirement already satisfied: click<9.0.0,>=7.1.1 in /usr/local/lib/python3.8/dist-packages (from typer<0.8.0,>=0.3.0->spacy) (7.1.2)\n",
            "Requirement already satisfied: MarkupSafe>=0.23 in /usr/local/lib/python3.8/dist-packages (from jinja2->spacy) (2.0.1)\n",
            "/usr/local/lib/python3.8/dist-packages/torch/cuda/__init__.py:497: UserWarning: Can't initialize NVML\n",
            "  warnings.warn(\"Can't initialize NVML\")\n",
            "2022-12-24 07:09:58.162395: E tensorflow/stream_executor/cuda/cuda_driver.cc:271] failed call to cuInit: CUDA_ERROR_NO_DEVICE: no CUDA-capable device is detected\n",
            "Looking in indexes: https://pypi.org/simple, https://us-python.pkg.dev/colab-wheels/public/simple/\n",
            "Collecting en-core-web-sm==3.4.1\n",
            "  Downloading https://github.com/explosion/spacy-models/releases/download/en_core_web_sm-3.4.1/en_core_web_sm-3.4.1-py3-none-any.whl (12.8 MB)\n",
            "\u001b[K     |████████████████████████████████| 12.8 MB 5.0 MB/s \n",
            "\u001b[?25hRequirement already satisfied: spacy<3.5.0,>=3.4.0 in /usr/local/lib/python3.8/dist-packages (from en-core-web-sm==3.4.1) (3.4.4)\n",
            "Requirement already satisfied: requests<3.0.0,>=2.13.0 in /usr/local/lib/python3.8/dist-packages (from spacy<3.5.0,>=3.4.0->en-core-web-sm==3.4.1) (2.23.0)\n",
            "Requirement already satisfied: spacy-legacy<3.1.0,>=3.0.10 in /usr/local/lib/python3.8/dist-packages (from spacy<3.5.0,>=3.4.0->en-core-web-sm==3.4.1) (3.0.10)\n",
            "Requirement already satisfied: tqdm<5.0.0,>=4.38.0 in /usr/local/lib/python3.8/dist-packages (from spacy<3.5.0,>=3.4.0->en-core-web-sm==3.4.1) (4.64.1)\n",
            "Requirement already satisfied: catalogue<2.1.0,>=2.0.6 in /usr/local/lib/python3.8/dist-packages (from spacy<3.5.0,>=3.4.0->en-core-web-sm==3.4.1) (2.0.8)\n",
            "Requirement already satisfied: wasabi<1.1.0,>=0.9.1 in /usr/local/lib/python3.8/dist-packages (from spacy<3.5.0,>=3.4.0->en-core-web-sm==3.4.1) (0.10.1)\n",
            "Requirement already satisfied: pydantic!=1.8,!=1.8.1,<1.11.0,>=1.7.4 in /usr/local/lib/python3.8/dist-packages (from spacy<3.5.0,>=3.4.0->en-core-web-sm==3.4.1) (1.10.2)\n",
            "Requirement already satisfied: typer<0.8.0,>=0.3.0 in /usr/local/lib/python3.8/dist-packages (from spacy<3.5.0,>=3.4.0->en-core-web-sm==3.4.1) (0.7.0)\n",
            "Requirement already satisfied: langcodes<4.0.0,>=3.2.0 in /usr/local/lib/python3.8/dist-packages (from spacy<3.5.0,>=3.4.0->en-core-web-sm==3.4.1) (3.3.0)\n",
            "Requirement already satisfied: cymem<2.1.0,>=2.0.2 in /usr/local/lib/python3.8/dist-packages (from spacy<3.5.0,>=3.4.0->en-core-web-sm==3.4.1) (2.0.7)\n",
            "Requirement already satisfied: srsly<3.0.0,>=2.4.3 in /usr/local/lib/python3.8/dist-packages (from spacy<3.5.0,>=3.4.0->en-core-web-sm==3.4.1) (2.4.5)\n",
            "Requirement already satisfied: jinja2 in /usr/local/lib/python3.8/dist-packages (from spacy<3.5.0,>=3.4.0->en-core-web-sm==3.4.1) (2.11.3)\n",
            "Requirement already satisfied: packaging>=20.0 in /usr/local/lib/python3.8/dist-packages (from spacy<3.5.0,>=3.4.0->en-core-web-sm==3.4.1) (21.3)\n",
            "Requirement already satisfied: spacy-loggers<2.0.0,>=1.0.0 in /usr/local/lib/python3.8/dist-packages (from spacy<3.5.0,>=3.4.0->en-core-web-sm==3.4.1) (1.0.4)\n",
            "Requirement already satisfied: thinc<8.2.0,>=8.1.0 in /usr/local/lib/python3.8/dist-packages (from spacy<3.5.0,>=3.4.0->en-core-web-sm==3.4.1) (8.1.5)\n",
            "Requirement already satisfied: setuptools in /usr/local/lib/python3.8/dist-packages (from spacy<3.5.0,>=3.4.0->en-core-web-sm==3.4.1) (57.4.0)\n",
            "Requirement already satisfied: preshed<3.1.0,>=3.0.2 in /usr/local/lib/python3.8/dist-packages (from spacy<3.5.0,>=3.4.0->en-core-web-sm==3.4.1) (3.0.8)\n",
            "Requirement already satisfied: pathy>=0.3.5 in /usr/local/lib/python3.8/dist-packages (from spacy<3.5.0,>=3.4.0->en-core-web-sm==3.4.1) (0.10.1)\n",
            "Requirement already satisfied: numpy>=1.15.0 in /usr/local/lib/python3.8/dist-packages (from spacy<3.5.0,>=3.4.0->en-core-web-sm==3.4.1) (1.21.6)\n",
            "Requirement already satisfied: smart-open<7.0.0,>=5.2.1 in /usr/local/lib/python3.8/dist-packages (from spacy<3.5.0,>=3.4.0->en-core-web-sm==3.4.1) (6.3.0)\n",
            "Requirement already satisfied: murmurhash<1.1.0,>=0.28.0 in /usr/local/lib/python3.8/dist-packages (from spacy<3.5.0,>=3.4.0->en-core-web-sm==3.4.1) (1.0.9)\n",
            "Requirement already satisfied: pyparsing!=3.0.5,>=2.0.2 in /usr/local/lib/python3.8/dist-packages (from packaging>=20.0->spacy<3.5.0,>=3.4.0->en-core-web-sm==3.4.1) (3.0.9)\n",
            "Requirement already satisfied: typing-extensions>=4.1.0 in /usr/local/lib/python3.8/dist-packages (from pydantic!=1.8,!=1.8.1,<1.11.0,>=1.7.4->spacy<3.5.0,>=3.4.0->en-core-web-sm==3.4.1) (4.4.0)\n",
            "Requirement already satisfied: urllib3!=1.25.0,!=1.25.1,<1.26,>=1.21.1 in /usr/local/lib/python3.8/dist-packages (from requests<3.0.0,>=2.13.0->spacy<3.5.0,>=3.4.0->en-core-web-sm==3.4.1) (1.24.3)\n",
            "Requirement already satisfied: certifi>=2017.4.17 in /usr/local/lib/python3.8/dist-packages (from requests<3.0.0,>=2.13.0->spacy<3.5.0,>=3.4.0->en-core-web-sm==3.4.1) (2022.12.7)\n",
            "Requirement already satisfied: idna<3,>=2.5 in /usr/local/lib/python3.8/dist-packages (from requests<3.0.0,>=2.13.0->spacy<3.5.0,>=3.4.0->en-core-web-sm==3.4.1) (2.10)\n",
            "Requirement already satisfied: chardet<4,>=3.0.2 in /usr/local/lib/python3.8/dist-packages (from requests<3.0.0,>=2.13.0->spacy<3.5.0,>=3.4.0->en-core-web-sm==3.4.1) (3.0.4)\n",
            "Requirement already satisfied: confection<1.0.0,>=0.0.1 in /usr/local/lib/python3.8/dist-packages (from thinc<8.2.0,>=8.1.0->spacy<3.5.0,>=3.4.0->en-core-web-sm==3.4.1) (0.0.3)\n",
            "Requirement already satisfied: blis<0.8.0,>=0.7.8 in /usr/local/lib/python3.8/dist-packages (from thinc<8.2.0,>=8.1.0->spacy<3.5.0,>=3.4.0->en-core-web-sm==3.4.1) (0.7.9)\n",
            "Requirement already satisfied: click<9.0.0,>=7.1.1 in /usr/local/lib/python3.8/dist-packages (from typer<0.8.0,>=0.3.0->spacy<3.5.0,>=3.4.0->en-core-web-sm==3.4.1) (7.1.2)\n",
            "Requirement already satisfied: MarkupSafe>=0.23 in /usr/local/lib/python3.8/dist-packages (from jinja2->spacy<3.5.0,>=3.4.0->en-core-web-sm==3.4.1) (2.0.1)\n",
            "\u001b[38;5;2m✔ Download and installation successful\u001b[0m\n",
            "You can now load the package via spacy.load('en_core_web_sm')\n"
          ]
        }
      ],
      "source": [
        "!pip install -U spacy\n",
        "!python -m spacy download en_core_web_sm"
      ]
    },
    {
      "cell_type": "code",
      "source": [
        "import spacy\n",
        "from spacy.lang.en.stop_words import STOP_WORDS\n",
        "from string import punctuation"
      ],
      "metadata": {
        "id": "d8_2plFohB4-",
        "colab": {
          "base_uri": "https://localhost:8080/"
        },
        "outputId": "edafa199-31fe-4581-dbe2-764e4440b8a0"
      },
      "execution_count": 2,
      "outputs": [
        {
          "output_type": "stream",
          "name": "stderr",
          "text": [
            "/usr/local/lib/python3.8/dist-packages/torch/cuda/__init__.py:497: UserWarning: Can't initialize NVML\n",
            "  warnings.warn(\"Can't initialize NVML\")\n"
          ]
        }
      ]
    },
    {
      "cell_type": "code",
      "source": [
        "stopwords= list(STOP_WORDS)"
      ],
      "metadata": {
        "id": "z-D7N0tChLge"
      },
      "execution_count": 3,
      "outputs": []
    },
    {
      "cell_type": "code",
      "source": [
        "nlp=spacy.load('en_core_web_sm')"
      ],
      "metadata": {
        "id": "JvuKqthShZLP"
      },
      "execution_count": 4,
      "outputs": []
    },
    {
      "cell_type": "code",
      "source": [
        "with open('/content/boota-singh-vs-state-of-haryana-ll-2021-sc-218 - Dhiraj Kumar Sharma.txt','r')as file:\n",
        "  data=file.read().replace('\\n', '')"
      ],
      "metadata": {
        "id": "cw46gWHKk408"
      },
      "execution_count": 5,
      "outputs": []
    },
    {
      "cell_type": "code",
      "source": [
        "doc=nlp(data)"
      ],
      "metadata": {
        "id": "pWGb8ZjAhg8C"
      },
      "execution_count": 6,
      "outputs": []
    },
    {
      "cell_type": "code",
      "source": [
        "tokens=[token.text for token in doc]\n",
        "print(tokens)"
      ],
      "metadata": {
        "colab": {
          "base_uri": "https://localhost:8080/"
        },
        "id": "ZyOVJf1Hhj_i",
        "outputId": "224c8d1b-42dc-406e-dcf0-61ba2675e8e0"
      },
      "execution_count": 7,
      "outputs": [
        {
          "output_type": "stream",
          "name": "stdout",
          "text": [
            "['\\ufeffWWW.LIVELAW.IN1', '                                             ', 'BOOTA', 'SINGH', 'V', 'S', 'STATE', 'OF', 'HARYANA', 'LL', '2021', 'SC', '218.J', 'U', 'D', 'G', 'M', 'E', 'N', 'T1', 'This', 'appeal', 'challenges', 'the', 'judgment', 'and', 'final', 'order', 'dated', '03.03.2020', 'passed', 'by', 'the', 'High', 'Court', 'of', 'Punjab', '&', 'Haryana', 'at', 'Chandigarh', 'dismissing', 'CR', 'A', '-', 'S-1759', '-', 'SB-2004', 'preferred', 'by', 'the', 'appellants', 'and', 'affirming', 'their', 'conviction', 'and', 'sentence', 'under', 'Section', '15', 'of', 'the', 'Narcotic', 'Drugs', 'and', 'Psychotropic', 'Substances', 'Act', ',', '1985', '(', '“', 'the', 'NDPS', 'Act', '”', 'for', 'short).2', 'The', 'basic', 'facts', 'and', 'the', 'case', 'of', 'prosecution', 'as', 'recorded', 'by', 'the', 'HighCourt', 'in', 'its', 'judgment', 'are', 'as', 'under:“2', '.', 'The', 'facts', 'as', 'put', 'forth', 'by', 'the', 'prosecution', 'are', 'to', 'the', 'effect', 'that', 'on', '28.01.2002', ',', 'S.I.', 'Nand', 'Lal', 'alongwith', 'fellow', 'police', 'officials', 'were', 'present', 'at', 'the', 'canal', 'bridge', 'on', 'Surtia', '-', 'Rori', 'road', ',', 'where', 'he', 'received', 'a', 'secret', 'information', 'to', 'the', 'effect', 'that', 'the', 'accused', 'are', 'selling', 'poppy', 'straw', 'in', 'a', 'vehicle', 'bearing', 'registration', 'number', 'GUD-4997', 'on', 'a', '‘', 'kacha', 'path', '’', 'at', 'Rori', '-', 'Jatana', 'road', 'and', 'they', 'can', 'be', 'apprehended', 'if', 'raid', 'is', 'conducted', '.', ' ', 'Accordingly', ',', 'a', 'raid', 'was', 'conducted', 'and', 'the', 'accused', 'were', 'found', 'sitting', 'in', 'the', 'jeep', 'bearing', 'registration', 'number', 'GUD-4997', 'at', 'the', 'aforesaid', 'place', '.', 'Major', 'Singh', ',', 'co', '-', 'accused', 'of', 'the', 'appellants', ',', 'managed', 'to', 'slip', 'away', ',', 'whereas', ',', 'the', 'appellants', 'were', 'apprehend', 'at', 'the', 'spot', '.', 'They', 'were', 'found', 'sitting', 'upon', 'two', 'bags', 'kept', 'in', 'the', 'said', 'jeep', '.', 'Notices', 'under', 'Section', '50', 'of', 'the', 'Act', 'were', 'served', 'upon', 'them', 'but', 'the', 'appellants', 'reposed', 'faith', 'upon', 'the', 'police', 'officials', '.', 'The', 'search', 'of', 'the', 'bags', 'led', 'to', 'the', 'recovery', 'of', 'poppy', 'straw', '.', 'One', 'bag', 'was', 'containing', '39', 'kg', 'of', 'poppy', 'straw', 'and', 'the', 'second', 'bag', 'was', 'containing', '36', 'kg', 'of', 'poppy', 'straw', '.', 'Two', 'samples', 'weighing', '100', 'grams', 'each', 'were', 'separated', 'from', 'each', 'bag', '.', 'The', 'sample', 'parcels', 'and', 'the', 'bulk', 'parcels', 'were', 'converted', 'into', 'separate', 'parcels', 'and', 'sealed', 'with', 'the', 'seal', 'bearing', 'impression', \"'\", 'CS', \"'\", '.', ' ', 'The', 'jeep', 'alongwith', 'weighing', 'scale', ',', 'two', 'weights', 'of', '500', 'grams', 'each', 'were', 'also', 'recovered', 'and', 'taken', 'into', 'possession', 'vide', 'recovery', 'memos', '.', 'Ruqa', 'was', 'recorded', 'and', 'dispatched', 'to', 'the', 'police', 'station', 'on', 'the', 'basis', 'thereof', ',', 'the', 'FIR', 'was', 'registered', '.', 'Subsequently', ',', 'Major', 'Singh', ',', 'co', '-', 'accused', ',', 'was', 'arrested', '.', 'and', 'on', 'completion', 'of', 'investigation', ',', 'the', 'challan', 'was', 'presented', 'in', 'the', 'Court.3', 'The', 'charge', 'was', 'framed', '.', 'The', 'contents', 'thereof', 'were', 'read', 'over', 'and', 'explained', 'to', 'the', 'appellants', ',', 'to', 'which', 'they', 'pleaded', 'not', 'guilty', 'and', 'claimed', 'trial.4', 'In', 'support', 'of', 'its', 'allegations', ',', 'the', 'prosecution', 'has', 'examined', 'four', 'witnesses', '.', 'Inspector', 'Nand', 'Lal', '(', 'PW4', ')', 'has', 'conducted', 'the', 'search', 'of', 'the', 'accused', 'in', 'the', 'presence', 'of', 'ASI', 'Jaswant', 'Singh', '(', 'PW3', ')', '.', 'The', 'case', 'property', 'was', 'retained', 'in', 'the', 'malkhana', 'by', 'Kuldeep', 'Singh', '(', 'PW2', ')', 'and', 'Constable', 'Gurjit', 'Singh', '(', 'PW', '1', ')', 'took', 'the', 'sample', 'parcels', 'to', 'the', 'FSL', '.', 'The', 'prosecution', 'has', 'also', '2', 'of', '10', 'produced', 'documentary', 'evidence', 'to', 'substantiate', 'the', 'version', 'as', 'put', 'forth', 'by', 'it', '.', '”3', '.', 'By', 'order', 'dated', '15.03.2002', ',', 'on', 'an', 'application', 'preferred', 'by', 'him', ',', 'the', 'vehicle', 'in', 'question', 'was', 'released', 'by', 'the', 'Trial', 'Court', 'in', 'favour', 'of', 'accused', 'Gurdeep', 'Singh.4', '.', 'During', 'trial', ',', 'PW4', 'Inspector', 'Nand', 'Lal', ',', 'the', 'Investigating', 'Officer', 'deposed', 'in', 'his', 'examination', '-', 'in', '-', 'chief', 'as', 'under:“On', '28.1.2002', 'I', 'was', 'posted', 'as', 'Sub', 'Inspector', '/', 'SHO', 'in', 'Police', 'Station', 'Rori', '.', 'On', 'that', 'day', ',', 'I', 'alongwith', 'ASI', 'Jaswant', 'Singh', 'and', 'other', 'police', 'officials', 'were', 'present', 'at', 'the', 'canal', 'bridge', 'on', 'Surtia', 'Rori', '-', 'road', 'in', 'connection', 'with', 'patrolling', '.', 'I', 'received', 'a', 'secret', 'information', 'that', 'all', 'the', 'accused', 'are', 'selling', 'poppy', 'straw', 'in', 'a', 'vehicle', 'bearing', 'no', '.', 'GUD-4997', 'upon', 'a', \"'\", 'Kacha', 'Rasta', 'at', 'RoriJatana', 'road', 'and', 'can', 'be', 'apprehended', 'red', 'handed', 'if', 'a', 'raid', 'is', 'conducted', '.', 'I', 'tried', 'to', 'join', 'two', 'persons', 'who', 'were', 'going', 'to', 'water', 'the', 'fields', 'in', 'the', 'investigations', 'but', 'they', 'refused', '.', 'Thereafter', 'I', 'organised', 'a', 'raiding', 'party', 'and', 'conducted', 'a', 'raid', '.', 'All', 'the', 'accused', 'were', 'found', 'in', 'the', 'jeep', 'bearing', 'no', 'GUD-4997', ',', 'upon', 'a', 'kacha', 'rasta', 'by', 'the', 'side', 'of', 'Rori', '-', 'Jatana', 'Road', ',', 'Upon', 'seeing', 'the', 'police', 'party', ',', 'one', 'of', 'the', 'accused', ',', 'namely', ',', 'Major', 'fled', 'the', 'spot', '.', 'I', 'knew', 'the', 'accused', 'Major', 'Singh', 'since', 'long', '.', 'Remaining', 'three', 'accused', 'were', 'apprehended', 'at', 'the', 'spot', '.', 'Accused', 'Boota', 'Singh', ',', 'Gurdeep', 'Singh', 'and', 'Gurmahender', 'Singh', 'alias', 'Mitta', 'were', 'found', 'sitting', 'upon', 'two', 'bags', 'lying', 'in', 'the', 'said', 'Jeep', '.', 'Thereafter', ',', 'I', 'served', 'notices', 'Ex', '.', 'PC', ',', 'Ex', '.', 'PD', 'and', 'Ex', '.', 'PE', 'upon', 'accused', 'Gurdeep', ',', 'Boota', 'and', 'Gurmahender', 'Singh', 'respectively', 'u', '/', 's', '50', 'of', 'NDPS', 'asking', 'them', 'as', 'to', 'whether', 'they', 'desired', 'their', 'search', 'before', 'a', 'gazetted', 'officer', 'or', 'a', 'Magistrate', '.', 'Vide', 'replies', 'Exl', '.', 'PC/1.1', ',', 'Ex', '.', 'PDA', 'and', 'Ex', '.', 'PE', '/', 'I', ',', 'accused', 'Gurdeep', 'Singh', ',', 'Boota', 'Singh', 'andGurmahender', 'Singh', 'alias', 'Mitta', 'declined', 'the', 'offer', 'and', 'reposed', 'faith', 'in', 'the', 'police', '.', '…', '”', ' ', 'In', 'his', 'cross', '-', 'examination', ',', 'the', 'witness', 'stated:-“I', 'did', 'not', 'record', 'the', 'secret', 'information', 'in', 'writing', '.', 'Wireless', 'in', 'my', 'jeep', 'was', 'out', 'of', 'order', 'at', 'that', 'time', '.', 'I', 'did', 'not', 'obtain', 'any', 'search', 'warrants', 'for', 'conducting', 'the', 'search', 'of', 'the', 'jeep', 'of', 'accused', 'during', 'night', 'hours', '.', 'I', 'did', 'not', 'record', 'any', 'ground', 'for', 'not', 'obtaining', 'the', 'requisite', 'search', 'warrants', 'in', 'my', 'police', 'file', '.', 'The', 'writing', 'work', 'was', 'done', 'while', 'sitting', 'in', 'the', 'jeep', '.', '”5', '.', 'After', 'considering', 'the', 'evidence', 'on', 'record', ',', 'the', 'Trial', 'Court', 'by', 'its', 'judgment', 'and', 'order', 'dated', '12.08.2004', ',', 'acquitted', 'accused', 'Major', 'Singh', 'but', 'convicted', 'accused', 'Boota', 'Singh', ',', 'Gurdeep', 'Singh', 'and', 'Gurmohinder', 'Singh', ',', 'under', 'Section', '15', 'of', 'the', 'NDPS', 'Act', 'and', 'sentenced', 'them', 'to', 'suffer', 'rigorous', 'imprisonment', 'for', '10', 'years', 'with', 'imposition', 'of', 'fine', 'in', 'the', 'sum', 'of', 'Rs.1,00,000/-', ',', 'in', 'default', 'whereof', 'they', 'were', 'directed', 'to', 'undergo', 'further', 'rigorous', 'imprisonment', 'for', 'a', 'period', 'of', 'two', 'years', '.', 'On', 'the', 'question', 'of', 'applicability', 'of', 'Section', '42', 'of', 'the', 'NDPS', 'Act', ',', 'the', 'TrialCourt', 'stated:-', '“', '…', 'Learned', 'counsel', 'sought', 'acquittal', 'of', 'accused', 'due', 'to', 'noncompliance', 'of', 'Section', '42', 'of', 'N.D.P.S.', 'Act', '.', ' ', 'However', ',', 'above', 'said', 'argument', 'could', 'help', 'the', 'accused', 'if', 'recovery', 'had', 'been', 'effected', 'from', 'the', 'house', ',', 'building', 'etc', '.', 'of', 'the', 'accused', '.', 'Admittedly', ',', 'recovery', 'in', 'question', 'was', 'effected', 'from', 'the', 'accused', 'while', 'they', 'were', 'sitting', 'on', 'road', 'in', 'a', 'jeep', 'at', 'a', 'public', 'place', '.', 'Therefore', ',', 'case', 'of', 'accused', 'would', 'be', 'covered', 'by', 'Section', '43', 'of', 'N.D.P.S.', 'Act', 'and', 'not', 'by', 'Section', '42', 'of', 'N.D.P.S.', 'Act', '.', 'Under', 'these', 'circumstances', ',', 'argument', 'of', 'learned', 'counsels', 'for', 'accused', 'is', 'overruled', '.', '”6', '.', 'The', 'convicted', 'accused', ',', 'being', 'aggrieved', ',', 'preferred', 'the', 'aforementionedCriminal', 'Appeal', 'before', 'the', 'High', 'Court', ',', 'which', 'was', 'dismissed', 'by', 'the', 'High', 'Court', '.', 'On', 'the', 'question', 'whether', 'the', 'matter', 'came', 'within', 'the', 'scope', 'of', 'Section', '42', 'of', 'the', 'NDPS', 'Act', ',', 'the', 'High', 'Court', 'observed:-14', '.', 'Furthermore', ',', 'in', 'the', 'case', 'in', 'hand', ',', 'the', 'accused', 'were', 'present', 'in', 'a', 'jeep', 'on', 'a', 'public', 'path', 'and', 'in', 'such', 'circumstance', ',', 'the', 'provisions', 'of', 'Section', '43', 'and', 'not', 'of', '42', 'of', 'the', 'Act', 'come', 'into', 'play', '.', 'As', 'per', 'explanation', 'to', 'Section', '43', 'of', 'the', 'Act', ',', 'the', 'public', 'place', 'includes', 'a', 'conveyance', 'also', '.', 'Section', '43', 'of', 'the', 'Act', 'contemplates', 'a', 'seizure', 'made', 'in', 'a', 'public', 'place', 'or', 'in', 'transit', '.', 'As', 'such', ',', 'Section', '42', 'of', 'the', 'Act', 'is', 'not', 'applicable', 'to', 'the', 'facts', 'of', 'the', 'present', 'case', '…', '”', '7', '.', 'In', 'this', 'appeal', 'preferred', 'by', 'Boota', 'Singh', ',', 'Gurdeep', 'Singh', 'and', 'Gurmohinder', 'Singh', 'challenging', 'the', 'correctness', 'of', 'the', 'decisions', 'of', 'the', 'courts', 'below', ',', 'we', 'heard', 'Mr.', 'Praveen', 'Kumar', ',', 'learned', 'counsel', 'for', 'the', 'appellants', 'and', 'Mr.', 'Rakesh', 'Mudgal', ',', 'learned', 'AAG', 'for', 'the', 'State.8', '.', 'Mr.', 'Praveen', 'Kumar', 'submitted', 'inter', 'alia', ':', 'a.', 'The', 'vehicle', 'in', 'question', 'was', 'a', 'private', 'vehicle', 'belonging', 'to', 'accused', 'Gurdeep', 'Singh', 'and', 'was', 'not', 'a', 'publicconveyance', ',', 'though', 'parked', 'on', 'a', 'public', 'road.b', '.', 'As', 'accepted', 'by', 'PW4', 'Inspector', 'Nand', 'Lal', ',', 'the', 'secret', 'information', 'was', 'not', 'recorded', 'in', 'writing', 'nor', 'any', 'grounds', 'were', 'recorded', 'for', 'not', 'obtaining', 'the', 'requisite', 'search', 'warrants.c', '.', 'The', 'instant', 'case', 'would', 'not', 'be', 'come', 'under', 'Section', '43', 'but', 'would', 'be', 'governed', 'by', 'the', 'provisions', 'of', 'Section', '42', 'of', 'the', 'NDPS', 'Act.d', '.', 'Section', '42', 'having', 'not', 'been', 'complied', 'with', 'at', 'all', ',', 'the', 'appellants', 'were', 'entitled', 'to', 'acquittal', 'in', 'terms', 'of', 'law', 'laid', 'down', 'in', 'the', 'Constitution', 'Bench', 'decision', 'of', 'this', 'Court', 'in', 'Karnail', 'Singh', 'v.', 'State', 'of', 'Haryana', '(', '2009', ')', '8', 'SCC', '539', ',', 'followed', 'in', 'subsequent', 'decisions', 'in', 'Sukhdev', 'Singh', 'v.', 'State', 'ofHaryana', '(', '2013', ')', '2', 'SCC', '212', ',', 'and', ',', 'State', 'of', 'Rajasthan', 'v.', 'Jagraj', 'Singh', 'alias', 'Hansa', '(', '2016', ')', '11', 'SCC', '687.9', '.', 'Countering', 'the', 'submissions', ',', 'Mr.', 'Rakesh', 'Mudgal', ',', 'learned', 'AAGsubmitted', 'that', 'the', 'courts', 'below', 'were', 'right', 'in', 'observing', 'that', 'the', 'instant', 'case', 'would', 'be', 'governed', 'by', 'the', 'provisions', 'of', 'Section', '43', 'of', 'the', 'NDPS', 'Act', '.', ' ', 'It', 'was', 'however', 'accepted', 'by', 'the', 'learned', 'counsel', 'that', 'there', 'was', 'no', 'material', 'on', 'record', 'to', 'conclude', 'that', 'the', 'vehicle', 'in', 'question', 'was', 'a', 'public', 'conveyance.110', '.', 'In', 'Karnail', 'Singh', ',', 'the', 'Constitution', 'Bench', 'of', 'this', 'Court', 'concluded:-“35', '.', 'In', 'conclusion', ',', 'what', 'is', 'to', 'be', 'noticed', 'is', 'that', 'Abdul', 'Rashid', '[', '(', '2000', ')', '2', 'SCC', '513', ':', '2000', 'SCC', '(', 'Cri', ')', '496', ']', 'did', 'not', 'require', 'literal', 'compliance', 'with', 'the', 'requirements', 'of', 'Sections', '42(1', ')', 'and', '42(2', ')', 'nor', 'did', 'Sajan', 'Abraham', '[', '(', '2001', ')', '6', 'SCC', '692', ':', '2001', 'SCC', '(', 'Cri', ')', '1217', ']', 'hold', 'that', 'the', 'requirements', 'of', 'Sections', '42(1', ')', 'and', '42(2', ')', 'need', 'not', 'be', 'fulfilled', 'at', 'all', '.', 'The', 'effect', 'of', 'the', 'two', 'decisions', 'was', 'as', 'follows:(a', ')', 'The', 'officer', 'on', 'receiving', 'the', 'information', '[', 'of', 'thenature', 'referred', 'to', 'in', 'sub', '-', 'section', '(', '1', ')', 'of', 'Section', '42', ']', 'from', 'any', 'person', 'had', 'to', 'record', 'it', 'in', 'writing', 'in', 'the', 'register', 'concerned', 'and', 'forthwith', 'send', 'a', 'copy', 'to', 'his', 'immediate', 'official', 'superior', ',', 'before', 'proceeding', 'to', 'take', 'action', 'in', 'terms', 'of', 'clauses', '(', 'a', ')', 'to', '(', 'd', ')', 'of', 'Section', '42(1).(b', ')', 'But', 'if', 'the', 'information', 'was', 'received', 'when', 'the', 'officerwas', 'not', 'in', 'the', 'police', 'station', ',', 'but', 'while', 'he', 'was', 'on', 'the', 'move', 'either', 'on', 'patrol', 'duty', 'or', 'otherwise', ',', 'either', 'by', 'mobile', 'phone', ',', 'or', 'other', 'means', ',', 'and', 'the', 'information', 'calls', 'for', 'immediate', 'action', 'and', 'any', 'delay', 'would', 'have', 'resulted', 'in', 'the', 'goods', 'or', 'evidence', 'being', 'removed', 'or', 'destroyed', ',', 'it', 'would', 'not', 'be', 'feasible', 'or', 'practical', 'to', 'take', 'down', 'in', 'writing', 'the', 'information', 'given', 'to', 'him', ',', 'in', 'such', 'a', 'situation', ',', 'he', 'could', 'take', 'action', 'as', 'per', 'clauses', '(', 'a', ')', 'to', '(', 'd', ')', 'of', 'Section', '42(1', ')', 'and', 'thereafter', ',', 'as', 'soon', 'as', 'it', 'is', 'practical', ',', 'record', 'the', 'information', 'in', 'writing', 'and', 'forthwith', 'inform', 'the', 'same', 'to', 'the', 'official', 'superior.(c', ')', 'In', 'other', 'words', ',', 'the', 'compliance', 'with', 'the', 'requirementsof', 'Sections', '42(1', ')', 'and', '42(2', ')', 'in', 'regard', 'to', 'writing', 'down', 'the', 'information', 'received', 'and', 'sending', 'a', 'copy', 'thereof', 'to', 'the', 'superior', 'officer', ',', 'should', 'normally', 'precede', 'the', 'entry', ',', 'search', 'and', 'seizure', 'by', 'the', 'officer', '.', 'But', 'in', 'special', 'circumstances', 'involving', 'emergent', 'situations', ',', 'the', 'recording', 'of', 'the', 'information', 'in', 'writing', 'and', 'sending', 'a', 'copy', 'thereof', 'to', 'the', 'official', 'superior', 'may', 'get', 'postponed', 'by', 'a', 'reasonable', 'period', ',', 'that', 'is', ',', 'after', 'the', 'search', ',', 'entry', 'and', 'seizure', '.', 'The', 'question', 'is', 'one', 'of', 'urgency', 'and', 'expediency.(d', ')', 'While', 'total', 'non', '-', 'compliance', 'with', 'requirements', 'of', 'subsections', '(', '1', ')', 'and', '(', '2', ')', 'of', 'Section', '42', 'is', 'impermissible', ',', 'delayed', 'compliance', 'with', 'satisfactory', 'explanation', 'about', 'the', 'delay', 'will', 'be', 'acceptable', 'compliance', 'with', 'Section', '42', '.', 'To', 'illustrate', ',', 'if', 'any', 'delay', 'may', 'result', 'in', 'the', 'accused', 'escaping', 'or', 'the', 'goods', 'or', 'evidence', 'being', 'destroyed', 'or', 'removed', ',', 'not', 'recording', 'in', 'writing', 'the', 'information', 'received', ',', 'before', 'initiating', 'action', ',', 'or', 'non', '-', 'sending', 'of', 'a', 'copy', 'of', 'such', 'information', 'to', 'the', 'official', 'superior', 'forthwith', ',', 'may', 'not', 'be', 'treated', 'as', 'violation', 'of', 'Section', '42', '.', 'But', 'if', 'the', 'information', 'was', 'received', 'when', 'the', 'police', 'officer', 'was', 'in', 'the', 'police', 'station', 'with', 'sufficient', 'time', 'to', 'take', 'action', ',', 'and', 'if', 'the', 'police', 'officer', 'fails', 'to', 'record', 'in', 'writing', 'the', 'information', 'received', ',', 'or', 'fails', 'to', 'send', 'a', 'copy', 'thereof', ',', 'to', 'the', 'official', 'superior', ',', 'then', 'it', 'will', 'be', 'a', 'suspicious', 'circumstance', 'being', 'a', 'clear', 'violation', 'of', 'Section', '42', 'of', 'the', 'Act', '.', 'Similarly', ',', 'where', 'the', 'police', 'officer', 'does', 'not', 'record', 'the', 'information', 'at', 'all', ',', 'and', 'does', 'not', 'inform', 'the', 'official', 'superior', 'at', 'all', ',', 'then', 'also', 'it', 'will', 'be', 'a', 'clear', 'violation', 'of', 'Section', '42', 'of', 'the', 'Act', '.', 'Whether', 'there', 'is', 'adequate', 'or', 'substantial', 'compliance', 'with', 'Section', '42', 'or', 'not', 'is', 'a', 'question', 'of', 'fact', 'to', 'be', 'decided', 'in', 'each', 'case', '.', 'The', 'above', 'position', 'got', 'strengthened', 'with', 'the', 'amendment', 'to', 'Section', '42', 'by', 'Act', '9', 'of', '2001.”(Emphasis', 'added)311', '.', 'In', 'Jagraj', 'Singh', 'alias', 'Hansa', ',', 'the', 'facts', 'were', 'more', 'or', 'less', 'identical', '.', 'In', 'that', 'case', ',', 'the', 'vehicle', '(', 'as', 'observed', 'in', 'para', '5.3', 'of', 'the', 'decision', ')', 'was', 'not', 'a', 'public', 'transport', 'vehicle', '.', ' ', 'After', 'considering', 'the', 'relevant', 'provisions', 'and', 'some1', 'of', 'the', 'decisions', 'of', 'this', 'Court', 'including', 'the', 'decision', 'in', 'Karnail', 'Singh', ',', 'it', 'was', 'observed:-“14', '.', 'What', 'Section', '42(2', ')', 'requires', 'is', 'that', 'where', 'an', 'officer', 'takes', 'down', 'an', 'information', 'in', 'writing', 'under', 'sub', '-', 'section', '(', '1', ')', 'he', 'shall', 'send', 'a', 'copy', 'thereof', 'to', 'his', 'immediate', 'officer', 'senior', '.', 'The', 'communication', 'Ext', '.', 'P-15', 'which', 'was', 'sent', 'to', 'the', 'Circle', 'Officer', ',', 'Nohar', 'was', 'not', 'as', 'per', 'the', 'information', 'recorded', 'in', 'Ext', '.', 'P-14', 'and', 'Ext', '.', 'P-21', '.', 'Thus', ',', 'no', 'error', 'was', 'committed', 'by', 'the', 'High', 'Court', 'in', 'coming', 'to', 'the', 'conclusion', 'that', 'there', 'was', 'breach', 'of', 'Section', '42(2', ')', '.', '\\t', '.', '.', '.', '.', '.', ' \\t', '.', '.', '.', '.', '.', ' ', '.', '.', '.', '.', '.16', '.', 'In', 'this', 'context', ',', 'it', 'is', 'relevant', 'to', 'note', 'that', 'before', 'the', 'Special', 'Judge', 'also', 'the', 'breach', 'of', 'Sections', '42(1', ')', 'and', '42(2', ')', 'was', 'contended', 'on', 'behalf', 'of', 'the', 'defence', '.', 'In', 'para', '12', 'of', 'the', 'judgment', 'the', 'Special', 'Judge', 'noted', 'the', 'above', 'arguments', 'of', 'defence', '.', 'However', ',', 'the', 'arguments', 'based', 'on', 'non', '-', 'compliance', 'with', 'Section', '42(2', ')', 'were', 'brushed', 'aside', 'by', 'observing', 'that', 'discrepancy', 'in', 'Ext', '.', 'P-14', 'and', 'Ext', '.', 'P-15', 'is', 'totally', 'due', 'to', 'clerical', 'mistake', 'and', 'there', 'was', 'compliance', 'with', 'Section', '42(2', ')', '.', 'The', 'Special', 'Judge', 'coming', 'to', 'compliance', 'with', 'the', 'proviso', 'to', 'Section', '42(1', ')', 'held', 'that', 'the', 'vehicle', 'searched', 'was', 'being', 'used', 'to', 'transport', 'passengers', 'as', 'has', 'been', 'clearly', 'stated', 'by', 'its', 'owner', 'Vira', 'Ram', ',', 'hence', ',', 'as', 'per', 'the', 'Explanation', 'to', 'Section', '43', 'of', 'the', 'Act', ',', 'the', 'vehicle', 'was', 'a', 'public', 'transport', 'vehicle', 'and', 'there', 'was', 'no', 'need', 'of', 'any', 'warrant', 'or', 'authority', 'to', 'search', 'such', 'a', 'vehicle', '.', 'The', 'High', 'Court', 'has', 'reversed', 'the', 'above', 'findings', 'of', 'the', 'Special', 'Judge', '.', 'We', 'thus', ',', 'proceed', 'to', 'examine', 'as', 'to', 'whether', 'Section', '43', 'was', 'attracted', 'in', 'the', 'present', 'case', 'which', 'obviated', 'the', 'requirement', 'of', 'Section', '42(1', ')', 'proviso', '.', '\\t', '.', '.', '.', '.', '.', ' \\t', '.', '.', '.', '.', '.', ' ', '.', '.', '.', '.', '.29', '.', 'After', 'referring', 'to', 'the', 'earlier', 'judgments', ',', 'the', 'Constitution', 'Bench', 'came', 'to', 'the', 'conclusion', 'that', 'non', '-', 'compliance', 'with', 'requirement', 'of', 'Sections', '42', 'and', '50', 'is', 'impermissible', 'whereas', 'delayed', 'compliance', 'with', 'satisfactory', 'explanation', 'will', 'be', 'acceptable', 'compliance', 'with', 'Section', '42', '.', 'The', 'Constitution', 'Bench', 'noted', 'the', 'effect', 'of', 'the', 'aforesaid', 'two', 'decisions', 'in', 'para', '5', '.', 'The', 'present', 'is', 'not', 'a', 'case', 'where', 'insofar', 'as', 'compliance', 'with', 'Section', '42(1', ')', 'proviso', 'even', 'an', 'argument', 'based', 'on', 'substantial', 'compliance', 'is', 'raised', 'there', 'is', 'total', 'non', '-', 'compliance', 'with', 'Section', '42(1', ')', 'proviso', '.', 'As', 'observed', 'above', ',', 'Section', '43', 'being', 'not', 'attracted', ',', 'search', 'was', 'to', 'be', 'conducted', 'after', 'complying', 'with', 'the', 'provisions', 'of', 'Section', '42', '.', 'We', 'thus', ',', 'conclude', 'that', 'the', 'High', 'Court', 'has', 'rightly', 'held', 'that', 'non', '-', 'compliance', 'with', 'Section', '42(1', ')', 'and', 'Section', '42(2', ')', 'were', 'proved', 'on', 'the', 'record', 'and', 'the', 'High', 'Court', 'has', 'not', 'committed', 'any', 'error', 'in', 'setting', 'aside', 'the', 'conviction', 'order', '.', '”(Emphasis', 'added)12', '.', 'The', 'evidence', 'in', 'the', 'present', 'case', 'clearly', 'shows', 'that', 'the', 'vehicle', 'was', 'not', 'a', 'public', 'conveyance', 'but', 'was', 'a', 'vehicle', 'belonging', 'to', 'accused', 'Gurdeep', 'Singh', '.', ' ', 'The', 'Registration', 'Certificate', 'of', 'the', 'vehicle', ',', 'which', 'has', 'been', 'placed', 'on', 'record', 'also', 'does', 'not', 'indicate', 'it', 'to', 'be', 'a', 'Public', 'Transport', 'Vehicle', '.', ' ', 'The', 'explanation', 'to', 'Section', '43', 'shows', 'that', 'a', 'private', 'vehicle', 'would', 'not', 'come', 'within', 'the', 'expression', '“', 'public', 'place', '”', 'as', 'explained', 'in', 'Section', '43', 'of', 'the', 'NDPSAct', '.', ' ', 'On', 'the', 'strength', 'of', 'the', 'decision', ' ', 'of', 'this', 'Court', 'in', 'Jagraj', 'Singh', 'alias3Hansa', ',', 'the', 'relevant', 'provision', 'would', 'not', 'be', 'Section', '43', 'of', 'the', 'NDPS', 'Act', 'but', 'the', 'case', 'would', 'come', 'under', 'Section', '42', 'of', 'the', 'NDPS', 'Act', '.', '13', '.', 'It', 'is', 'an', 'admitted', 'position', 'that', 'there', 'was', 'total', 'non', '-', 'compliance', 'of', 'the', 'requirements', 'of', 'Section', '42', 'of', 'the', 'NDPS', 'Act.114', '.', 'The', 'decision', 'of', 'this', 'Court', 'in', 'Karnail', 'Singh', 'as', 'followed', 'in', 'Jagraj3Singh', 'alias', 'Hansa', ',', 'is', 'absolutely', 'clear', '.', ' ', 'Total', 'non', '-', 'compliance', 'of', 'Section', '42', 'is', 'impermissible', '.', ' ', 'The', 'rigor', 'of', 'Section', '42', 'may', 'get', 'lessened', 'in', 'situations1dealt', 'with', 'in', 'the', 'conclusion', 'drawn', 'by', 'this', 'Court', 'in', 'Karnail', 'Singh', 'but', 'in', 'no', 'case', ',', 'total', 'non', '-', 'compliance', 'of', 'Section', '42', 'can', 'be', 'accepted.15', '.', 'In', 'the', 'circumstances', ',', 'the', 'courts', 'below', 'fell', 'in', 'error', 'in', 'rejecting', 'the', 'submissions', 'advanced', 'on', 'behalf', 'of', 'the', 'appellants', '.', 'We', ',', 'therefore', ',', 'allow', 'this', 'appeal', ',', 'set', '-', 'aside', 'the', 'view', 'taken', 'by', 'the', 'High', 'Court', 'and', 'acquit', 'the', 'appellants', 'of', 'the', 'charge', 'levelled', 'against', 'them', '.', 'The', 'appellants', 'be', 'released', 'forthwith', 'unless', 'their', 'custody', 'is', 'required', 'in', 'connection', 'with', 'any', 'other', 'offence', '.']\n"
          ]
        }
      ]
    },
    {
      "cell_type": "code",
      "source": [
        "punctuation=punctuation + '\\n'"
      ],
      "metadata": {
        "id": "KQ1imotKiMpq"
      },
      "execution_count": 8,
      "outputs": []
    },
    {
      "cell_type": "code",
      "source": [
        "word_frequencies={}\n",
        "for word in doc:\n",
        "  if word.text.lower() not in stopwords:\n",
        "    if word.text.lower() not in punctuation:\n",
        "      if word.text not in word_frequencies.keys():\n",
        "        word_frequencies[word.text]=1\n",
        "      else:\n",
        "        word_frequencies[word.text] += 1"
      ],
      "metadata": {
        "id": "JMklrl28imTe"
      },
      "execution_count": 9,
      "outputs": []
    },
    {
      "cell_type": "code",
      "source": [
        "print(word_frequencies)"
      ],
      "metadata": {
        "colab": {
          "base_uri": "https://localhost:8080/"
        },
        "id": "7ca987vLjbwn",
        "outputId": "33d912be-a098-405e-ea43-8b512471f4e1"
      },
      "execution_count": 10,
      "outputs": [
        {
          "output_type": "stream",
          "name": "stdout",
          "text": [
            "{'\\ufeffWWW.LIVELAW.IN1': 1, '                                             ': 1, 'BOOTA': 1, 'SINGH': 1, 'V': 1, 'S': 1, 'STATE': 1, 'HARYANA': 1, 'LL': 1, '2021': 1, 'SC': 1, '218.J': 1, 'U': 1, 'D': 1, 'G': 1, 'M': 1, 'E': 1, 'N': 1, 'T1': 1, 'appeal': 3, 'challenges': 1, 'judgment': 4, 'final': 1, 'order': 5, 'dated': 3, '03.03.2020': 1, 'passed': 1, 'High': 9, 'Court': 17, 'Punjab': 1, 'Haryana': 2, 'Chandigarh': 1, 'dismissing': 1, 'CR': 1, 'S-1759': 1, 'SB-2004': 1, 'preferred': 4, 'appellants': 10, 'affirming': 1, 'conviction': 2, 'sentence': 1, 'Section': 49, '15': 2, 'Narcotic': 1, 'Drugs': 1, 'Psychotropic': 1, 'Substances': 1, 'Act': 20, '1985': 1, '“': 3, 'NDPS': 10, '”': 4, 'short).2': 1, 'basic': 1, 'facts': 4, 'case': 14, 'prosecution': 4, 'recorded': 5, 'HighCourt': 1, 'under:“2': 1, 'forth': 2, 'effect': 4, '28.01.2002': 1, 'S.I.': 1, 'Nand': 4, 'Lal': 4, 'alongwith': 3, 'fellow': 1, 'police': 12, 'officials': 3, 'present': 7, 'canal': 2, 'bridge': 2, 'Surtia': 2, 'Rori': 5, 'road': 5, 'received': 7, 'secret': 4, 'information': 18, 'accused': 27, 'selling': 2, 'poppy': 5, 'straw': 5, 'vehicle': 16, 'bearing': 5, 'registration': 2, 'number': 2, 'GUD-4997': 4, '‘': 1, 'kacha': 2, 'path': 2, '’': 1, 'Jatana': 2, 'apprehended': 3, 'raid': 4, 'conducted': 6, ' ': 14, 'Accordingly': 1, 'found': 4, 'sitting': 5, 'jeep': 9, 'aforesaid': 2, 'place': 5, 'Major': 5, 'Singh': 32, 'co': 2, 'managed': 1, 'slip': 1, 'away': 1, 'apprehend': 1, 'spot': 3, 'bags': 3, 'kept': 1, 'said': 3, 'Notices': 1, '50': 3, 'served': 2, 'reposed': 2, 'faith': 2, 'search': 11, 'led': 1, 'recovery': 4, 'bag': 3, 'containing': 2, '39': 1, 'kg': 2, 'second': 1, '36': 1, 'samples': 1, 'weighing': 2, '100': 1, 'grams': 2, 'separated': 1, 'sample': 2, 'parcels': 4, 'bulk': 1, 'converted': 1, 'separate': 1, 'sealed': 1, 'seal': 1, 'impression': 1, 'CS': 1, 'scale': 1, 'weights': 1, '500': 1, 'recovered': 1, 'taken': 2, 'possession': 1, 'vide': 1, 'memos': 1, 'Ruqa': 1, 'dispatched': 1, 'station': 3, 'basis': 1, 'thereof': 6, 'FIR': 1, 'registered': 1, 'Subsequently': 1, 'arrested': 1, 'completion': 1, 'investigation': 1, 'challan': 1, 'presented': 1, 'Court.3': 1, 'charge': 2, 'framed': 1, 'contents': 1, 'read': 1, 'explained': 2, 'pleaded': 1, 'guilty': 1, 'claimed': 1, 'trial.4': 1, 'support': 1, 'allegations': 1, 'examined': 1, 'witnesses': 1, 'Inspector': 4, 'PW4': 3, 'presence': 1, 'ASI': 2, 'Jaswant': 2, 'PW3': 1, 'property': 1, 'retained': 1, 'malkhana': 1, 'Kuldeep': 1, 'PW2': 1, 'Constable': 1, 'Gurjit': 1, 'PW': 1, '1': 4, 'took': 1, 'FSL': 1, '2': 4, '10': 2, 'produced': 1, 'documentary': 1, 'evidence': 5, 'substantiate': 1, 'version': 1, '”3': 1, '15.03.2002': 1, 'application': 1, 'question': 8, 'released': 2, 'Trial': 2, 'favour': 1, 'Gurdeep': 8, 'Singh.4': 1, 'trial': 1, 'Investigating': 1, 'Officer': 2, 'deposed': 1, 'examination': 2, 'chief': 1, 'under:“On': 1, '28.1.2002': 1, 'posted': 1, 'Sub': 1, 'SHO': 1, 'Police': 1, 'Station': 1, 'day': 1, 'connection': 2, 'patrolling': 1, 'Kacha': 1, 'Rasta': 1, 'RoriJatana': 1, 'red': 1, 'handed': 1, 'tried': 1, 'join': 1, 'persons': 1, 'going': 1, 'water': 1, 'fields': 1, 'investigations': 1, 'refused': 1, 'organised': 1, 'raiding': 1, 'party': 2, 'rasta': 1, 'Road': 1, 'seeing': 1, 'fled': 1, 'knew': 1, 'long': 1, 'Remaining': 1, 'Accused': 1, 'Boota': 5, 'Gurmahender': 2, 'alias': 5, 'Mitta': 2, 'lying': 1, 'Jeep': 1, 'notices': 1, 'Ex': 5, 'PC': 1, 'PD': 1, 'PE': 2, 'respectively': 1, 'u': 1, 's': 1, 'asking': 1, 'desired': 1, 'gazetted': 1, 'officer': 9, 'Magistrate': 1, 'Vide': 1, 'replies': 1, 'Exl': 1, 'PC/1.1': 1, 'PDA': 1, 'andGurmahender': 1, 'declined': 1, 'offer': 1, '…': 3, 'cross': 1, 'witness': 1, 'stated:-“I': 1, 'record': 10, 'writing': 11, 'Wireless': 1, 'time': 2, 'obtain': 1, 'warrants': 2, 'conducting': 1, 'night': 1, 'hours': 1, 'ground': 1, 'obtaining': 2, 'requisite': 2, 'file': 1, 'work': 1, '”5': 1, 'considering': 2, '12.08.2004': 1, 'acquitted': 1, 'convicted': 2, 'Gurmohinder': 2, 'sentenced': 1, 'suffer': 1, 'rigorous': 2, 'imprisonment': 2, 'years': 2, 'imposition': 1, 'fine': 1, 'sum': 1, 'Rs.1,00,000/-': 1, 'default': 1, 'whereof': 1, 'directed': 1, 'undergo': 1, 'period': 2, 'applicability': 1, '42': 24, 'TrialCourt': 1, 'stated:-': 1, 'Learned': 1, 'counsel': 3, 'sought': 1, 'acquittal': 2, 'noncompliance': 1, 'N.D.P.S.': 3, 'argument': 3, 'help': 1, 'effected': 2, 'house': 1, 'building': 1, 'etc': 1, 'Admittedly': 1, 'public': 10, 'covered': 1, '43': 12, 'circumstances': 3, 'learned': 5, 'counsels': 1, 'overruled': 1, '”6': 1, 'aggrieved': 1, 'aforementionedCriminal': 1, 'Appeal': 1, 'dismissed': 1, 'matter': 1, 'came': 2, 'scope': 1, 'observed:-14': 1, 'Furthermore': 1, 'hand': 1, 'circumstance': 2, 'provisions': 5, 'come': 4, 'play': 1, 'explanation': 4, 'includes': 1, 'conveyance': 2, 'contemplates': 1, 'seizure': 3, 'transit': 1, 'applicable': 1, '7': 1, 'challenging': 1, 'correctness': 1, 'decisions': 5, 'courts': 3, 'heard': 1, 'Mr.': 4, 'Praveen': 2, 'Kumar': 2, 'Rakesh': 2, 'Mudgal': 2, 'AAG': 1, 'State.8': 1, 'submitted': 1, 'inter': 1, 'alia': 1, 'a.': 1, 'private': 2, 'belonging': 2, 'publicconveyance': 1, 'parked': 1, 'road.b': 1, 'accepted': 2, 'grounds': 1, 'warrants.c': 1, 'instant': 2, 'governed': 2, 'Act.d': 1, 'having': 1, 'complied': 1, 'entitled': 1, 'terms': 2, 'law': 1, 'laid': 1, 'Constitution': 4, 'Bench': 4, 'decision': 5, 'Karnail': 5, 'v.': 3, 'State': 3, '2009': 1, '8': 1, 'SCC': 7, '539': 1, 'followed': 2, 'subsequent': 1, 'Sukhdev': 1, 'ofHaryana': 1, '2013': 1, '212': 1, 'Rajasthan': 1, 'Jagraj': 3, 'Hansa': 3, '2016': 1, '11': 1, '687.9': 1, 'Countering': 1, 'submissions': 2, 'AAGsubmitted': 1, 'right': 1, 'observing': 2, 'material': 1, 'conclude': 2, 'conveyance.110': 1, 'concluded:-“35': 1, 'conclusion': 4, 'noticed': 1, 'Abdul': 1, 'Rashid': 1, '2000': 2, '513': 1, 'Cri': 2, '496': 1, 'require': 1, 'literal': 1, 'compliance': 19, 'requirements': 4, 'Sections': 5, '42(1': 10, '42(2': 9, 'Sajan': 1, 'Abraham': 1, '2001': 2, '6': 1, '692': 1, '1217': 1, 'hold': 1, 'need': 2, 'fulfilled': 1, 'follows:(a': 1, 'receiving': 1, 'thenature': 1, 'referred': 1, 'sub': 2, 'section': 2, 'person': 1, 'register': 1, 'concerned': 1, 'forthwith': 4, 'send': 3, 'copy': 6, 'immediate': 3, 'official': 6, 'superior': 6, 'proceeding': 1, 'action': 5, 'clauses': 2, 'd': 2, '42(1).(b': 1, 'officerwas': 1, 'patrol': 1, 'duty': 1, 'mobile': 1, 'phone': 1, 'means': 1, 'calls': 1, 'delay': 3, 'resulted': 1, 'goods': 2, 'removed': 2, 'destroyed': 2, 'feasible': 1, 'practical': 2, 'given': 1, 'situation': 1, 'soon': 1, 'inform': 2, 'superior.(c': 1, 'words': 1, 'requirementsof': 1, 'regard': 1, 'sending': 3, 'normally': 1, 'precede': 1, 'entry': 2, 'special': 1, 'involving': 1, 'emergent': 1, 'situations': 1, 'recording': 2, 'postponed': 1, 'reasonable': 1, 'urgency': 1, 'expediency.(d': 1, 'total': 4, 'non': 9, 'subsections': 1, 'impermissible': 3, 'delayed': 2, 'satisfactory': 2, 'acceptable': 2, 'illustrate': 1, 'result': 1, 'escaping': 1, 'initiating': 1, 'treated': 1, 'violation': 3, 'sufficient': 1, 'fails': 2, 'suspicious': 1, 'clear': 3, 'Similarly': 1, 'adequate': 1, 'substantial': 2, 'fact': 1, 'decided': 1, 'position': 2, 'got': 1, 'strengthened': 1, 'amendment': 1, '9': 1, '2001.”(Emphasis': 1, 'added)311': 1, 'identical': 1, 'observed': 2, 'para': 3, '5.3': 1, 'transport': 3, 'relevant': 3, 'some1': 1, 'including': 1, 'observed:-“14': 1, 'requires': 1, 'takes': 1, 'shall': 1, 'senior': 1, 'communication': 1, 'Ext': 5, 'P-15': 2, 'sent': 1, 'Circle': 1, 'Nohar': 1, 'P-14': 2, 'P-21': 1, 'error': 3, 'committed': 2, 'coming': 2, 'breach': 2, '\\t': 2, ' \\t': 2, '.16': 1, 'context': 1, 'note': 1, 'Special': 4, 'Judge': 4, 'contended': 1, 'behalf': 2, 'defence': 2, '12': 1, 'noted': 2, 'arguments': 2, 'based': 2, 'brushed': 1, 'aside': 3, 'discrepancy': 1, 'totally': 1, 'clerical': 1, 'mistake': 1, 'proviso': 4, 'held': 2, 'searched': 1, 'passengers': 1, 'clearly': 2, 'stated': 1, 'owner': 1, 'Vira': 1, 'Ram': 1, 'Explanation': 1, 'warrant': 1, 'authority': 1, 'reversed': 1, 'findings': 1, 'proceed': 1, 'examine': 1, 'attracted': 2, 'obviated': 1, 'requirement': 2, '.29': 1, 'referring': 1, 'earlier': 1, 'judgments': 1, '5': 1, 'insofar': 1, 'raised': 1, 'complying': 1, 'rightly': 1, 'proved': 1, 'setting': 1, '”(Emphasis': 1, 'added)12': 1, 'shows': 2, 'Registration': 1, 'Certificate': 1, 'placed': 1, 'indicate': 1, 'Public': 1, 'Transport': 1, 'Vehicle': 1, 'expression': 1, 'NDPSAct': 1, 'strength': 1, 'alias3Hansa': 1, 'provision': 1, '13': 1, 'admitted': 1, 'Act.114': 1, 'Jagraj3Singh': 1, 'absolutely': 1, 'Total': 1, 'rigor': 1, 'lessened': 1, 'situations1dealt': 1, 'drawn': 1, 'accepted.15': 1, 'fell': 1, 'rejecting': 1, 'advanced': 1, 'allow': 1, 'set': 1, 'view': 1, 'acquit': 1, 'levelled': 1, 'custody': 1, 'required': 1, 'offence': 1}\n"
          ]
        }
      ]
    },
    {
      "cell_type": "code",
      "source": [
        "max_frequencies=max(word_frequencies.values())"
      ],
      "metadata": {
        "id": "eTMhzCfFjseD"
      },
      "execution_count": 11,
      "outputs": []
    },
    {
      "cell_type": "code",
      "source": [
        "max_frequencies"
      ],
      "metadata": {
        "colab": {
          "base_uri": "https://localhost:8080/"
        },
        "id": "Rb6gBOXGsb7X",
        "outputId": "91ac5ee2-9dc8-4723-96d8-36c0f9abbd91"
      },
      "execution_count": 12,
      "outputs": [
        {
          "output_type": "execute_result",
          "data": {
            "text/plain": [
              "49"
            ]
          },
          "metadata": {},
          "execution_count": 12
        }
      ]
    },
    {
      "cell_type": "code",
      "source": [
        "for word in word_frequencies.keys():\n",
        "  word_frequencies[word]=word_frequencies[word]/max_frequencies"
      ],
      "metadata": {
        "id": "bwV4so5lsfkl"
      },
      "execution_count": 13,
      "outputs": []
    },
    {
      "cell_type": "code",
      "source": [
        "print(word_frequencies)"
      ],
      "metadata": {
        "colab": {
          "base_uri": "https://localhost:8080/"
        },
        "id": "G1G0EeVKssXM",
        "outputId": "a8d45cf2-c2fc-444c-e0fe-baa8b6594a3e"
      },
      "execution_count": 14,
      "outputs": [
        {
          "output_type": "stream",
          "name": "stdout",
          "text": [
            "{'\\ufeffWWW.LIVELAW.IN1': 0.02040816326530612, '                                             ': 0.02040816326530612, 'BOOTA': 0.02040816326530612, 'SINGH': 0.02040816326530612, 'V': 0.02040816326530612, 'S': 0.02040816326530612, 'STATE': 0.02040816326530612, 'HARYANA': 0.02040816326530612, 'LL': 0.02040816326530612, '2021': 0.02040816326530612, 'SC': 0.02040816326530612, '218.J': 0.02040816326530612, 'U': 0.02040816326530612, 'D': 0.02040816326530612, 'G': 0.02040816326530612, 'M': 0.02040816326530612, 'E': 0.02040816326530612, 'N': 0.02040816326530612, 'T1': 0.02040816326530612, 'appeal': 0.061224489795918366, 'challenges': 0.02040816326530612, 'judgment': 0.08163265306122448, 'final': 0.02040816326530612, 'order': 0.10204081632653061, 'dated': 0.061224489795918366, '03.03.2020': 0.02040816326530612, 'passed': 0.02040816326530612, 'High': 0.1836734693877551, 'Court': 0.3469387755102041, 'Punjab': 0.02040816326530612, 'Haryana': 0.04081632653061224, 'Chandigarh': 0.02040816326530612, 'dismissing': 0.02040816326530612, 'CR': 0.02040816326530612, 'S-1759': 0.02040816326530612, 'SB-2004': 0.02040816326530612, 'preferred': 0.08163265306122448, 'appellants': 0.20408163265306123, 'affirming': 0.02040816326530612, 'conviction': 0.04081632653061224, 'sentence': 0.02040816326530612, 'Section': 1.0, '15': 0.04081632653061224, 'Narcotic': 0.02040816326530612, 'Drugs': 0.02040816326530612, 'Psychotropic': 0.02040816326530612, 'Substances': 0.02040816326530612, 'Act': 0.40816326530612246, '1985': 0.02040816326530612, '“': 0.061224489795918366, 'NDPS': 0.20408163265306123, '”': 0.08163265306122448, 'short).2': 0.02040816326530612, 'basic': 0.02040816326530612, 'facts': 0.08163265306122448, 'case': 0.2857142857142857, 'prosecution': 0.08163265306122448, 'recorded': 0.10204081632653061, 'HighCourt': 0.02040816326530612, 'under:“2': 0.02040816326530612, 'forth': 0.04081632653061224, 'effect': 0.08163265306122448, '28.01.2002': 0.02040816326530612, 'S.I.': 0.02040816326530612, 'Nand': 0.08163265306122448, 'Lal': 0.08163265306122448, 'alongwith': 0.061224489795918366, 'fellow': 0.02040816326530612, 'police': 0.24489795918367346, 'officials': 0.061224489795918366, 'present': 0.14285714285714285, 'canal': 0.04081632653061224, 'bridge': 0.04081632653061224, 'Surtia': 0.04081632653061224, 'Rori': 0.10204081632653061, 'road': 0.10204081632653061, 'received': 0.14285714285714285, 'secret': 0.08163265306122448, 'information': 0.3673469387755102, 'accused': 0.5510204081632653, 'selling': 0.04081632653061224, 'poppy': 0.10204081632653061, 'straw': 0.10204081632653061, 'vehicle': 0.32653061224489793, 'bearing': 0.10204081632653061, 'registration': 0.04081632653061224, 'number': 0.04081632653061224, 'GUD-4997': 0.08163265306122448, '‘': 0.02040816326530612, 'kacha': 0.04081632653061224, 'path': 0.04081632653061224, '’': 0.02040816326530612, 'Jatana': 0.04081632653061224, 'apprehended': 0.061224489795918366, 'raid': 0.08163265306122448, 'conducted': 0.12244897959183673, ' ': 0.2857142857142857, 'Accordingly': 0.02040816326530612, 'found': 0.08163265306122448, 'sitting': 0.10204081632653061, 'jeep': 0.1836734693877551, 'aforesaid': 0.04081632653061224, 'place': 0.10204081632653061, 'Major': 0.10204081632653061, 'Singh': 0.6530612244897959, 'co': 0.04081632653061224, 'managed': 0.02040816326530612, 'slip': 0.02040816326530612, 'away': 0.02040816326530612, 'apprehend': 0.02040816326530612, 'spot': 0.061224489795918366, 'bags': 0.061224489795918366, 'kept': 0.02040816326530612, 'said': 0.061224489795918366, 'Notices': 0.02040816326530612, '50': 0.061224489795918366, 'served': 0.04081632653061224, 'reposed': 0.04081632653061224, 'faith': 0.04081632653061224, 'search': 0.22448979591836735, 'led': 0.02040816326530612, 'recovery': 0.08163265306122448, 'bag': 0.061224489795918366, 'containing': 0.04081632653061224, '39': 0.02040816326530612, 'kg': 0.04081632653061224, 'second': 0.02040816326530612, '36': 0.02040816326530612, 'samples': 0.02040816326530612, 'weighing': 0.04081632653061224, '100': 0.02040816326530612, 'grams': 0.04081632653061224, 'separated': 0.02040816326530612, 'sample': 0.04081632653061224, 'parcels': 0.08163265306122448, 'bulk': 0.02040816326530612, 'converted': 0.02040816326530612, 'separate': 0.02040816326530612, 'sealed': 0.02040816326530612, 'seal': 0.02040816326530612, 'impression': 0.02040816326530612, 'CS': 0.02040816326530612, 'scale': 0.02040816326530612, 'weights': 0.02040816326530612, '500': 0.02040816326530612, 'recovered': 0.02040816326530612, 'taken': 0.04081632653061224, 'possession': 0.02040816326530612, 'vide': 0.02040816326530612, 'memos': 0.02040816326530612, 'Ruqa': 0.02040816326530612, 'dispatched': 0.02040816326530612, 'station': 0.061224489795918366, 'basis': 0.02040816326530612, 'thereof': 0.12244897959183673, 'FIR': 0.02040816326530612, 'registered': 0.02040816326530612, 'Subsequently': 0.02040816326530612, 'arrested': 0.02040816326530612, 'completion': 0.02040816326530612, 'investigation': 0.02040816326530612, 'challan': 0.02040816326530612, 'presented': 0.02040816326530612, 'Court.3': 0.02040816326530612, 'charge': 0.04081632653061224, 'framed': 0.02040816326530612, 'contents': 0.02040816326530612, 'read': 0.02040816326530612, 'explained': 0.04081632653061224, 'pleaded': 0.02040816326530612, 'guilty': 0.02040816326530612, 'claimed': 0.02040816326530612, 'trial.4': 0.02040816326530612, 'support': 0.02040816326530612, 'allegations': 0.02040816326530612, 'examined': 0.02040816326530612, 'witnesses': 0.02040816326530612, 'Inspector': 0.08163265306122448, 'PW4': 0.061224489795918366, 'presence': 0.02040816326530612, 'ASI': 0.04081632653061224, 'Jaswant': 0.04081632653061224, 'PW3': 0.02040816326530612, 'property': 0.02040816326530612, 'retained': 0.02040816326530612, 'malkhana': 0.02040816326530612, 'Kuldeep': 0.02040816326530612, 'PW2': 0.02040816326530612, 'Constable': 0.02040816326530612, 'Gurjit': 0.02040816326530612, 'PW': 0.02040816326530612, '1': 0.08163265306122448, 'took': 0.02040816326530612, 'FSL': 0.02040816326530612, '2': 0.08163265306122448, '10': 0.04081632653061224, 'produced': 0.02040816326530612, 'documentary': 0.02040816326530612, 'evidence': 0.10204081632653061, 'substantiate': 0.02040816326530612, 'version': 0.02040816326530612, '”3': 0.02040816326530612, '15.03.2002': 0.02040816326530612, 'application': 0.02040816326530612, 'question': 0.16326530612244897, 'released': 0.04081632653061224, 'Trial': 0.04081632653061224, 'favour': 0.02040816326530612, 'Gurdeep': 0.16326530612244897, 'Singh.4': 0.02040816326530612, 'trial': 0.02040816326530612, 'Investigating': 0.02040816326530612, 'Officer': 0.04081632653061224, 'deposed': 0.02040816326530612, 'examination': 0.04081632653061224, 'chief': 0.02040816326530612, 'under:“On': 0.02040816326530612, '28.1.2002': 0.02040816326530612, 'posted': 0.02040816326530612, 'Sub': 0.02040816326530612, 'SHO': 0.02040816326530612, 'Police': 0.02040816326530612, 'Station': 0.02040816326530612, 'day': 0.02040816326530612, 'connection': 0.04081632653061224, 'patrolling': 0.02040816326530612, 'Kacha': 0.02040816326530612, 'Rasta': 0.02040816326530612, 'RoriJatana': 0.02040816326530612, 'red': 0.02040816326530612, 'handed': 0.02040816326530612, 'tried': 0.02040816326530612, 'join': 0.02040816326530612, 'persons': 0.02040816326530612, 'going': 0.02040816326530612, 'water': 0.02040816326530612, 'fields': 0.02040816326530612, 'investigations': 0.02040816326530612, 'refused': 0.02040816326530612, 'organised': 0.02040816326530612, 'raiding': 0.02040816326530612, 'party': 0.04081632653061224, 'rasta': 0.02040816326530612, 'Road': 0.02040816326530612, 'seeing': 0.02040816326530612, 'fled': 0.02040816326530612, 'knew': 0.02040816326530612, 'long': 0.02040816326530612, 'Remaining': 0.02040816326530612, 'Accused': 0.02040816326530612, 'Boota': 0.10204081632653061, 'Gurmahender': 0.04081632653061224, 'alias': 0.10204081632653061, 'Mitta': 0.04081632653061224, 'lying': 0.02040816326530612, 'Jeep': 0.02040816326530612, 'notices': 0.02040816326530612, 'Ex': 0.10204081632653061, 'PC': 0.02040816326530612, 'PD': 0.02040816326530612, 'PE': 0.04081632653061224, 'respectively': 0.02040816326530612, 'u': 0.02040816326530612, 's': 0.02040816326530612, 'asking': 0.02040816326530612, 'desired': 0.02040816326530612, 'gazetted': 0.02040816326530612, 'officer': 0.1836734693877551, 'Magistrate': 0.02040816326530612, 'Vide': 0.02040816326530612, 'replies': 0.02040816326530612, 'Exl': 0.02040816326530612, 'PC/1.1': 0.02040816326530612, 'PDA': 0.02040816326530612, 'andGurmahender': 0.02040816326530612, 'declined': 0.02040816326530612, 'offer': 0.02040816326530612, '…': 0.061224489795918366, 'cross': 0.02040816326530612, 'witness': 0.02040816326530612, 'stated:-“I': 0.02040816326530612, 'record': 0.20408163265306123, 'writing': 0.22448979591836735, 'Wireless': 0.02040816326530612, 'time': 0.04081632653061224, 'obtain': 0.02040816326530612, 'warrants': 0.04081632653061224, 'conducting': 0.02040816326530612, 'night': 0.02040816326530612, 'hours': 0.02040816326530612, 'ground': 0.02040816326530612, 'obtaining': 0.04081632653061224, 'requisite': 0.04081632653061224, 'file': 0.02040816326530612, 'work': 0.02040816326530612, '”5': 0.02040816326530612, 'considering': 0.04081632653061224, '12.08.2004': 0.02040816326530612, 'acquitted': 0.02040816326530612, 'convicted': 0.04081632653061224, 'Gurmohinder': 0.04081632653061224, 'sentenced': 0.02040816326530612, 'suffer': 0.02040816326530612, 'rigorous': 0.04081632653061224, 'imprisonment': 0.04081632653061224, 'years': 0.04081632653061224, 'imposition': 0.02040816326530612, 'fine': 0.02040816326530612, 'sum': 0.02040816326530612, 'Rs.1,00,000/-': 0.02040816326530612, 'default': 0.02040816326530612, 'whereof': 0.02040816326530612, 'directed': 0.02040816326530612, 'undergo': 0.02040816326530612, 'period': 0.04081632653061224, 'applicability': 0.02040816326530612, '42': 0.4897959183673469, 'TrialCourt': 0.02040816326530612, 'stated:-': 0.02040816326530612, 'Learned': 0.02040816326530612, 'counsel': 0.061224489795918366, 'sought': 0.02040816326530612, 'acquittal': 0.04081632653061224, 'noncompliance': 0.02040816326530612, 'N.D.P.S.': 0.061224489795918366, 'argument': 0.061224489795918366, 'help': 0.02040816326530612, 'effected': 0.04081632653061224, 'house': 0.02040816326530612, 'building': 0.02040816326530612, 'etc': 0.02040816326530612, 'Admittedly': 0.02040816326530612, 'public': 0.20408163265306123, 'covered': 0.02040816326530612, '43': 0.24489795918367346, 'circumstances': 0.061224489795918366, 'learned': 0.10204081632653061, 'counsels': 0.02040816326530612, 'overruled': 0.02040816326530612, '”6': 0.02040816326530612, 'aggrieved': 0.02040816326530612, 'aforementionedCriminal': 0.02040816326530612, 'Appeal': 0.02040816326530612, 'dismissed': 0.02040816326530612, 'matter': 0.02040816326530612, 'came': 0.04081632653061224, 'scope': 0.02040816326530612, 'observed:-14': 0.02040816326530612, 'Furthermore': 0.02040816326530612, 'hand': 0.02040816326530612, 'circumstance': 0.04081632653061224, 'provisions': 0.10204081632653061, 'come': 0.08163265306122448, 'play': 0.02040816326530612, 'explanation': 0.08163265306122448, 'includes': 0.02040816326530612, 'conveyance': 0.04081632653061224, 'contemplates': 0.02040816326530612, 'seizure': 0.061224489795918366, 'transit': 0.02040816326530612, 'applicable': 0.02040816326530612, '7': 0.02040816326530612, 'challenging': 0.02040816326530612, 'correctness': 0.02040816326530612, 'decisions': 0.10204081632653061, 'courts': 0.061224489795918366, 'heard': 0.02040816326530612, 'Mr.': 0.08163265306122448, 'Praveen': 0.04081632653061224, 'Kumar': 0.04081632653061224, 'Rakesh': 0.04081632653061224, 'Mudgal': 0.04081632653061224, 'AAG': 0.02040816326530612, 'State.8': 0.02040816326530612, 'submitted': 0.02040816326530612, 'inter': 0.02040816326530612, 'alia': 0.02040816326530612, 'a.': 0.02040816326530612, 'private': 0.04081632653061224, 'belonging': 0.04081632653061224, 'publicconveyance': 0.02040816326530612, 'parked': 0.02040816326530612, 'road.b': 0.02040816326530612, 'accepted': 0.04081632653061224, 'grounds': 0.02040816326530612, 'warrants.c': 0.02040816326530612, 'instant': 0.04081632653061224, 'governed': 0.04081632653061224, 'Act.d': 0.02040816326530612, 'having': 0.02040816326530612, 'complied': 0.02040816326530612, 'entitled': 0.02040816326530612, 'terms': 0.04081632653061224, 'law': 0.02040816326530612, 'laid': 0.02040816326530612, 'Constitution': 0.08163265306122448, 'Bench': 0.08163265306122448, 'decision': 0.10204081632653061, 'Karnail': 0.10204081632653061, 'v.': 0.061224489795918366, 'State': 0.061224489795918366, '2009': 0.02040816326530612, '8': 0.02040816326530612, 'SCC': 0.14285714285714285, '539': 0.02040816326530612, 'followed': 0.04081632653061224, 'subsequent': 0.02040816326530612, 'Sukhdev': 0.02040816326530612, 'ofHaryana': 0.02040816326530612, '2013': 0.02040816326530612, '212': 0.02040816326530612, 'Rajasthan': 0.02040816326530612, 'Jagraj': 0.061224489795918366, 'Hansa': 0.061224489795918366, '2016': 0.02040816326530612, '11': 0.02040816326530612, '687.9': 0.02040816326530612, 'Countering': 0.02040816326530612, 'submissions': 0.04081632653061224, 'AAGsubmitted': 0.02040816326530612, 'right': 0.02040816326530612, 'observing': 0.04081632653061224, 'material': 0.02040816326530612, 'conclude': 0.04081632653061224, 'conveyance.110': 0.02040816326530612, 'concluded:-“35': 0.02040816326530612, 'conclusion': 0.08163265306122448, 'noticed': 0.02040816326530612, 'Abdul': 0.02040816326530612, 'Rashid': 0.02040816326530612, '2000': 0.04081632653061224, '513': 0.02040816326530612, 'Cri': 0.04081632653061224, '496': 0.02040816326530612, 'require': 0.02040816326530612, 'literal': 0.02040816326530612, 'compliance': 0.3877551020408163, 'requirements': 0.08163265306122448, 'Sections': 0.10204081632653061, '42(1': 0.20408163265306123, '42(2': 0.1836734693877551, 'Sajan': 0.02040816326530612, 'Abraham': 0.02040816326530612, '2001': 0.04081632653061224, '6': 0.02040816326530612, '692': 0.02040816326530612, '1217': 0.02040816326530612, 'hold': 0.02040816326530612, 'need': 0.04081632653061224, 'fulfilled': 0.02040816326530612, 'follows:(a': 0.02040816326530612, 'receiving': 0.02040816326530612, 'thenature': 0.02040816326530612, 'referred': 0.02040816326530612, 'sub': 0.04081632653061224, 'section': 0.04081632653061224, 'person': 0.02040816326530612, 'register': 0.02040816326530612, 'concerned': 0.02040816326530612, 'forthwith': 0.08163265306122448, 'send': 0.061224489795918366, 'copy': 0.12244897959183673, 'immediate': 0.061224489795918366, 'official': 0.12244897959183673, 'superior': 0.12244897959183673, 'proceeding': 0.02040816326530612, 'action': 0.10204081632653061, 'clauses': 0.04081632653061224, 'd': 0.04081632653061224, '42(1).(b': 0.02040816326530612, 'officerwas': 0.02040816326530612, 'patrol': 0.02040816326530612, 'duty': 0.02040816326530612, 'mobile': 0.02040816326530612, 'phone': 0.02040816326530612, 'means': 0.02040816326530612, 'calls': 0.02040816326530612, 'delay': 0.061224489795918366, 'resulted': 0.02040816326530612, 'goods': 0.04081632653061224, 'removed': 0.04081632653061224, 'destroyed': 0.04081632653061224, 'feasible': 0.02040816326530612, 'practical': 0.04081632653061224, 'given': 0.02040816326530612, 'situation': 0.02040816326530612, 'soon': 0.02040816326530612, 'inform': 0.04081632653061224, 'superior.(c': 0.02040816326530612, 'words': 0.02040816326530612, 'requirementsof': 0.02040816326530612, 'regard': 0.02040816326530612, 'sending': 0.061224489795918366, 'normally': 0.02040816326530612, 'precede': 0.02040816326530612, 'entry': 0.04081632653061224, 'special': 0.02040816326530612, 'involving': 0.02040816326530612, 'emergent': 0.02040816326530612, 'situations': 0.02040816326530612, 'recording': 0.04081632653061224, 'postponed': 0.02040816326530612, 'reasonable': 0.02040816326530612, 'urgency': 0.02040816326530612, 'expediency.(d': 0.02040816326530612, 'total': 0.08163265306122448, 'non': 0.1836734693877551, 'subsections': 0.02040816326530612, 'impermissible': 0.061224489795918366, 'delayed': 0.04081632653061224, 'satisfactory': 0.04081632653061224, 'acceptable': 0.04081632653061224, 'illustrate': 0.02040816326530612, 'result': 0.02040816326530612, 'escaping': 0.02040816326530612, 'initiating': 0.02040816326530612, 'treated': 0.02040816326530612, 'violation': 0.061224489795918366, 'sufficient': 0.02040816326530612, 'fails': 0.04081632653061224, 'suspicious': 0.02040816326530612, 'clear': 0.061224489795918366, 'Similarly': 0.02040816326530612, 'adequate': 0.02040816326530612, 'substantial': 0.04081632653061224, 'fact': 0.02040816326530612, 'decided': 0.02040816326530612, 'position': 0.04081632653061224, 'got': 0.02040816326530612, 'strengthened': 0.02040816326530612, 'amendment': 0.02040816326530612, '9': 0.02040816326530612, '2001.”(Emphasis': 0.02040816326530612, 'added)311': 0.02040816326530612, 'identical': 0.02040816326530612, 'observed': 0.04081632653061224, 'para': 0.061224489795918366, '5.3': 0.02040816326530612, 'transport': 0.061224489795918366, 'relevant': 0.061224489795918366, 'some1': 0.02040816326530612, 'including': 0.02040816326530612, 'observed:-“14': 0.02040816326530612, 'requires': 0.02040816326530612, 'takes': 0.02040816326530612, 'shall': 0.02040816326530612, 'senior': 0.02040816326530612, 'communication': 0.02040816326530612, 'Ext': 0.10204081632653061, 'P-15': 0.04081632653061224, 'sent': 0.02040816326530612, 'Circle': 0.02040816326530612, 'Nohar': 0.02040816326530612, 'P-14': 0.04081632653061224, 'P-21': 0.02040816326530612, 'error': 0.061224489795918366, 'committed': 0.04081632653061224, 'coming': 0.04081632653061224, 'breach': 0.04081632653061224, '\\t': 0.04081632653061224, ' \\t': 0.04081632653061224, '.16': 0.02040816326530612, 'context': 0.02040816326530612, 'note': 0.02040816326530612, 'Special': 0.08163265306122448, 'Judge': 0.08163265306122448, 'contended': 0.02040816326530612, 'behalf': 0.04081632653061224, 'defence': 0.04081632653061224, '12': 0.02040816326530612, 'noted': 0.04081632653061224, 'arguments': 0.04081632653061224, 'based': 0.04081632653061224, 'brushed': 0.02040816326530612, 'aside': 0.061224489795918366, 'discrepancy': 0.02040816326530612, 'totally': 0.02040816326530612, 'clerical': 0.02040816326530612, 'mistake': 0.02040816326530612, 'proviso': 0.08163265306122448, 'held': 0.04081632653061224, 'searched': 0.02040816326530612, 'passengers': 0.02040816326530612, 'clearly': 0.04081632653061224, 'stated': 0.02040816326530612, 'owner': 0.02040816326530612, 'Vira': 0.02040816326530612, 'Ram': 0.02040816326530612, 'Explanation': 0.02040816326530612, 'warrant': 0.02040816326530612, 'authority': 0.02040816326530612, 'reversed': 0.02040816326530612, 'findings': 0.02040816326530612, 'proceed': 0.02040816326530612, 'examine': 0.02040816326530612, 'attracted': 0.04081632653061224, 'obviated': 0.02040816326530612, 'requirement': 0.04081632653061224, '.29': 0.02040816326530612, 'referring': 0.02040816326530612, 'earlier': 0.02040816326530612, 'judgments': 0.02040816326530612, '5': 0.02040816326530612, 'insofar': 0.02040816326530612, 'raised': 0.02040816326530612, 'complying': 0.02040816326530612, 'rightly': 0.02040816326530612, 'proved': 0.02040816326530612, 'setting': 0.02040816326530612, '”(Emphasis': 0.02040816326530612, 'added)12': 0.02040816326530612, 'shows': 0.04081632653061224, 'Registration': 0.02040816326530612, 'Certificate': 0.02040816326530612, 'placed': 0.02040816326530612, 'indicate': 0.02040816326530612, 'Public': 0.02040816326530612, 'Transport': 0.02040816326530612, 'Vehicle': 0.02040816326530612, 'expression': 0.02040816326530612, 'NDPSAct': 0.02040816326530612, 'strength': 0.02040816326530612, 'alias3Hansa': 0.02040816326530612, 'provision': 0.02040816326530612, '13': 0.02040816326530612, 'admitted': 0.02040816326530612, 'Act.114': 0.02040816326530612, 'Jagraj3Singh': 0.02040816326530612, 'absolutely': 0.02040816326530612, 'Total': 0.02040816326530612, 'rigor': 0.02040816326530612, 'lessened': 0.02040816326530612, 'situations1dealt': 0.02040816326530612, 'drawn': 0.02040816326530612, 'accepted.15': 0.02040816326530612, 'fell': 0.02040816326530612, 'rejecting': 0.02040816326530612, 'advanced': 0.02040816326530612, 'allow': 0.02040816326530612, 'set': 0.02040816326530612, 'view': 0.02040816326530612, 'acquit': 0.02040816326530612, 'levelled': 0.02040816326530612, 'custody': 0.02040816326530612, 'required': 0.02040816326530612, 'offence': 0.02040816326530612}\n"
          ]
        }
      ]
    },
    {
      "cell_type": "code",
      "source": [
        "sentence_tokens=[sent for sent in doc.sents]\n",
        "sentence_tokens"
      ],
      "metadata": {
        "colab": {
          "base_uri": "https://localhost:8080/"
        },
        "id": "Lcx2PEQgs7bS",
        "outputId": "a64c6474-6fde-4831-f8e3-e0d384ec6999"
      },
      "execution_count": 15,
      "outputs": [
        {
          "output_type": "execute_result",
          "data": {
            "text/plain": [
              "[﻿WWW.LIVELAW.IN1                                              BOOTA SINGH V S STATE OF HARYANA LL 2021 SC 218.J U D G M E N T1,\n",
              " This appeal challenges the judgment and final order dated 03.03.2020 passed by the High Court of Punjab & Haryana at Chandigarh dismissing CR A-S-1759-SB-2004 preferred by the appellants and affirming their conviction and sentence under Section 15 of the Narcotic Drugs and Psychotropic Substances Act, 1985 (“the NDPS Act” for short).2,\n",
              " The basic facts and the case of prosecution as recorded by the HighCourt in its judgment are as under:“2.,\n",
              " The facts as put forth by the prosecution are to the effect that on 28.01.2002, S.I. Nand Lal alongwith fellow police officials were present at the canal bridge on Surtia-Rori road, where he received a secret information to the effect that the accused are selling poppy straw in a vehicle bearing registration number GUD-4997 on a ‘kacha path’ at Rori-Jatana road and they can be apprehended if raid is conducted.  ,\n",
              " Accordingly, a raid was conducted and the accused were found sitting in the jeep bearing registration number GUD-4997 at the aforesaid place.,\n",
              " Major Singh, co-accused of the appellants, managed to slip away, whereas, the appellants were apprehend at the spot.,\n",
              " They were found sitting upon two bags kept in the said jeep.,\n",
              " Notices under Section 50 of the Act were served upon them but the appellants reposed faith upon the police officials.,\n",
              " The search of the bags led to the recovery of poppy straw.,\n",
              " One bag was containing 39 kg of poppy straw and the second bag was containing 36 kg of poppy straw.,\n",
              " Two samples weighing 100 grams each were separated from each bag.,\n",
              " The sample parcels and the bulk parcels were converted into separate parcels and sealed with the seal bearing impression 'CS'.  ,\n",
              " The jeep alongwith weighing scale, two weights of 500 grams each were also recovered and taken into possession vide recovery memos.,\n",
              " Ruqa was recorded and dispatched to the police station on the basis thereof, the FIR was registered.,\n",
              " Subsequently, Major Singh, co-accused, was arrested.,\n",
              " and on completion of investigation, the challan was presented in the Court.3 The charge was framed.,\n",
              " The contents thereof were read over and explained to the appellants, to which they pleaded not guilty and claimed trial.4,\n",
              " In support of its allegations, the prosecution has examined four witnesses.,\n",
              " Inspector Nand Lal (PW4) has conducted the search of the accused in the presence of ASI Jaswant Singh (PW3).,\n",
              " The case property was retained in the malkhana by Kuldeep Singh (PW2) and Constable Gurjit Singh (PW 1) took the sample parcels to the FSL.,\n",
              " The prosecution has also 2 of 10 produced documentary evidence to substantiate the version as put forth by it.”3.,\n",
              " By order dated 15.03.2002, on an application preferred by him, the vehicle in question was released by the Trial Court in favour of accused Gurdeep Singh.4.,\n",
              " During trial, PW4 Inspector Nand Lal, the Investigating Officer deposed in his examination-in-chief as under:“On 28.1.2002 I was posted as Sub Inspector/SHO in Police Station Rori.,\n",
              " On that day, I alongwith ASI Jaswant Singh and other police officials were present at the canal bridge on Surtia Rori-road in connection with patrolling.,\n",
              " I received a secret information that all the accused are selling poppy straw in a vehicle bearing no.,\n",
              " GUD-4997 upon a 'Kacha Rasta at RoriJatana road and can be apprehended red handed if a raid is conducted.,\n",
              " I tried to join two persons who were going to water the fields in the investigations but they refused.,\n",
              " Thereafter I organised a raiding party and conducted a raid.,\n",
              " All the accused were found in the jeep bearing no GUD-4997, upon a kacha rasta by the side of Rori-Jatana Road, Upon seeing the police party, one of the accused, namely, Major fled the spot.,\n",
              " I knew the accused Major Singh since long.,\n",
              " Remaining three accused were apprehended at the spot.,\n",
              " Accused Boota Singh, Gurdeep Singh and Gurmahender Singh,\n",
              " alias Mitta were found sitting upon two bags lying in the said Jeep.,\n",
              " Thereafter, I served notices Ex.PC, Ex.PD and Ex.PE upon,\n",
              " accused Gurdeep, Boota and Gurmahender Singh respectively u/s 50 of NDPS asking them as to whether they desired their search before a gazetted officer or a Magistrate.,\n",
              " Vide replies Exl.PC/1.1, Ex.PDA and Ex.,\n",
              " PE/I, accused Gurdeep Singh, Boota Singh andGurmahender Singh alias Mitta declined the offer and reposed faith in the police.,\n",
              " …”  In his cross-examination, the witness stated:-“I did not record the secret information in writing.,\n",
              " Wireless in my jeep was out of order at that time.,\n",
              " I did not obtain any search warrants for conducting the search of the jeep of accused during night hours.,\n",
              " I did not record any ground for not obtaining the requisite search warrants in my police file.,\n",
              " The writing work was done while sitting in the jeep.”5.,\n",
              " After considering the evidence on record, the Trial Court by its judgment and order dated 12.08.2004, acquitted accused Major Singh but convicted accused Boota Singh, Gurdeep Singh and Gurmohinder Singh, under Section 15 of the NDPS Act and sentenced them to suffer rigorous imprisonment for 10 years with imposition of fine in the sum of Rs.1,00,000/-, in default whereof they were directed to undergo further rigorous imprisonment for a period of two years.,\n",
              " On the question of applicability of Section 42 of the NDPS Act, the TrialCourt stated:-“ … Learned counsel sought acquittal of accused due to noncompliance of Section 42 of N.D.P.S. Act.  ,\n",
              " However, above said argument could help the accused if recovery had been effected from the house, building etc. of the accused.,\n",
              " Admittedly, recovery in question was effected from the accused while they were sitting on road in a jeep at a public place.,\n",
              " Therefore, case of accused would be covered by Section 43 of N.D.P.S. Act and not by Section 42 of N.D.P.S. Act.,\n",
              " Under these circumstances, argument of learned counsels for accused is overruled.”6.,\n",
              " The convicted accused, being aggrieved, preferred the aforementionedCriminal Appeal before the High Court, which was dismissed by the High Court.,\n",
              " On the question whether the matter came within the scope of Section 42 of the NDPS Act, the High Court observed:-14.,\n",
              " Furthermore, in the case in hand, the accused were present in a jeep on a public path and in such circumstance, the provisions of Section 43 and not of 42 of the Act come into play.,\n",
              " As per explanation to Section 43 of the Act, the public place includes a conveyance also.,\n",
              " Section 43 of the Act contemplates a seizure made in a public place or in transit.,\n",
              " As such, Section 42 of the Act is not applicable to the facts of the present case …” 7.,\n",
              " In this appeal preferred by Boota Singh, Gurdeep Singh and Gurmohinder Singh challenging the correctness of the decisions of the courts below, we heard Mr. Praveen Kumar, learned counsel for the appellants and Mr. Rakesh Mudgal, learned AAG for the State.8.,\n",
              " Mr. Praveen Kumar submitted inter alia:a. The vehicle in question was a private vehicle belonging to accused Gurdeep Singh and was not a publicconveyance, though parked on a public road.b.,\n",
              " As accepted by PW4 Inspector Nand Lal, the secret information was not recorded in writing nor any grounds were recorded for not obtaining the requisite search warrants.c.,\n",
              " The instant case would not be come under Section 43 but would be governed by the provisions of Section 42 of the NDPS Act.d.,\n",
              " Section 42 having not been complied with at all, the appellants were entitled to acquittal in terms of law laid down in the Constitution Bench decision of this Court in Karnail Singh v. State of Haryana (2009) 8 SCC 539, followed in subsequent decisions in Sukhdev Singh v. State ofHaryana (2013) 2 SCC 212, and, State of Rajasthan v. Jagraj Singh alias Hansa (2016) 11 SCC 687.9.,\n",
              " Countering the submissions, Mr. Rakesh Mudgal, learned AAGsubmitted that the courts below were right in observing that the instant case would be governed by the provisions of Section 43 of the NDPS Act.  ,\n",
              " It was however accepted by the learned counsel that there was no material on record to conclude that the vehicle in question was a public conveyance.110.,\n",
              " In Karnail Singh , the Constitution Bench of this Court concluded:-“35.,\n",
              " In conclusion, what is to be noticed is that Abdul Rashid [(2000) 2 SCC 513 : 2000 SCC (Cri) 496] did not require literal compliance with the requirements of Sections 42(1) and 42(2) nor did Sajan Abraham [(2001) 6 SCC 692 : 2001 SCC (Cri) 1217] hold that the requirements of Sections 42(1) and 42(2) need not be fulfilled at all.,\n",
              " The effect of the two decisions was as follows:(a),\n",
              " The officer on receiving the information [of thenature referred to in sub-section (1) of Section 42] from any person had to record it in writing in the register concerned and forthwith send a copy to his immediate official superior, before proceeding to take action in terms of clauses (a) to (d) of Section 42(1).(b),\n",
              " But if the information was received when the officerwas not in the police station, but while he was on the move either on patrol duty or otherwise, either by mobile phone, or other means, and the information calls for immediate action and any delay would have resulted in the goods or evidence being removed or destroyed, it would not be feasible or practical to take down in writing the information given to him, in such a situation, he could take action as per clauses (a) to (d) of Section 42(1) and thereafter, as soon as it is practical, record the information in writing and forthwith inform the same to the official superior.(c),\n",
              " In other words, the compliance with the requirementsof Sections 42(1) and 42(2) in regard to writing down the information received and sending a copy thereof to the superior officer, should normally precede the entry, search and seizure by the officer.,\n",
              " But in special circumstances involving emergent situations, the recording of the information in writing and sending a copy thereof to the official superior may get postponed by a reasonable period, that is, after the search, entry and seizure.,\n",
              " The question is one of urgency and expediency.(d) While total non-compliance with requirements of subsections (1) and (2) of Section 42 is impermissible, delayed compliance with satisfactory explanation about the delay will be acceptable compliance with Section 42.,\n",
              " To illustrate, if any delay may result in the accused escaping or the goods or evidence being destroyed or removed, not recording in writing the information received, before initiating action, or non-sending of a copy of such information to the official superior forthwith, may not be treated as violation of Section 42.,\n",
              " But if the information was received when the police officer was in the police station with sufficient time to take action, and if the police officer fails to record in writing the information received, or fails to send a copy thereof, to the official superior, then it will be a suspicious circumstance being a clear violation of Section 42 of the Act.,\n",
              " Similarly, where the police officer does not record the information at all, and does not inform the official superior at all, then also it will be a clear violation of Section 42 of the Act.,\n",
              " Whether there is adequate or substantial compliance with Section 42 or not is a question of fact to be decided in each case.,\n",
              " The above position got strengthened with the amendment to Section 42 by Act 9 of 2001.”(Emphasis added)311.,\n",
              " In Jagraj Singh alias Hansa , the facts were more or less identical.,\n",
              " In that case, the vehicle (as observed in para 5.3 of the decision) was not a public transport vehicle.  ,\n",
              " After considering the relevant provisions and some1 of the decisions of this Court including the decision in Karnail Singh , it was observed:-“14.,\n",
              " What Section 42(2) requires is that where an officer takes down an information in writing under sub-section (1) he shall send a copy thereof to his immediate officer senior.,\n",
              " The communication Ext. P-15 which was sent to the Circle Officer, Nohar was not as per the information recorded in Ext. P-14 and Ext. P-21.,\n",
              " Thus, no error was committed by the High Court in coming to the conclusion that there was breach of Section 42(2).\t. . . . .  \t. . . . .  . . . .,\n",
              " .16.,\n",
              " In this context, it is relevant to note that before the Special Judge also the breach of Sections 42(1) and 42(2) was contended on behalf of the defence.,\n",
              " In para 12 of the judgment the Special Judge noted the above arguments of defence.,\n",
              " However, the arguments based on non-compliance with Section 42(2) were brushed aside by observing that discrepancy in Ext. P-14,\n",
              " and,\n",
              " Ext. P-15,\n",
              " is totally due to clerical mistake and there was compliance with Section 42(2).,\n",
              " The Special Judge coming to compliance with the proviso to Section 42(1) held that the vehicle searched was being used to transport passengers as has been clearly stated by its owner Vira Ram, hence, as per the Explanation to Section 43 of the Act, the vehicle was a public transport vehicle and there was no need of any warrant or authority to search such a vehicle.,\n",
              " The High Court has reversed the above findings of the Special Judge.,\n",
              " We thus, proceed to examine as to whether Section 43 was attracted in the present case which obviated the requirement of Section 42(1) proviso.\t. . . . .  \t. . . . .  . . . .,\n",
              " .29.,\n",
              " After referring to the earlier judgments, the Constitution Bench came to the conclusion that non-compliance with requirement of Sections 42 and 50 is impermissible whereas delayed compliance with satisfactory explanation will be acceptable compliance with Section 42.,\n",
              " The Constitution Bench noted the effect of the aforesaid two decisions in para 5.,\n",
              " The present is not a case where insofar as compliance with Section 42(1) proviso even an argument based on substantial compliance is raised there is total non-compliance with Section 42(1) proviso.,\n",
              " As observed above, Section 43 being not attracted, search was to be conducted after complying with the provisions of Section 42.,\n",
              " We thus, conclude that the High Court has rightly held that non-compliance with Section 42(1) and Section 42(2) were proved on the record and the High Court has not committed any error in setting aside the conviction order.,\n",
              " ”(Emphasis,\n",
              " added)12.,\n",
              " The evidence in the present case clearly shows that the vehicle was not a public conveyance but was a vehicle belonging to accused Gurdeep Singh.  ,\n",
              " The Registration Certificate of the vehicle, which has been placed on record also does not indicate it to be a Public Transport Vehicle.  ,\n",
              " The explanation to Section 43 shows that a private vehicle would not come within the expression “public place” as explained in Section 43 of the NDPSAct.  ,\n",
              " On the strength of the decision  of this Court in Jagraj Singh alias3Hansa , the relevant provision would not be Section 43 of the NDPS Act but the case would come under Section 42 of the NDPS Act.,\n",
              " 13.,\n",
              " It is an admitted position that there was total non-compliance of the requirements of Section 42 of the NDPS Act.114.,\n",
              " The decision of this Court in Karnail Singh as followed in Jagraj3Singh alias Hansa , is absolutely clear.  ,\n",
              " Total non-compliance of Section 42 is impermissible.  ,\n",
              " The rigor of Section 42 may get lessened in situations1dealt with in the conclusion drawn by this Court in Karnail Singh but in no case, total non-compliance of Section 42 can be accepted.15.,\n",
              " In the circumstances, the courts below fell in error in rejecting the submissions advanced on behalf of the appellants.,\n",
              " We, therefore, allow this appeal, set-aside the view taken by the High Court and acquit the appellants of the charge levelled against them.,\n",
              " The appellants be released forthwith unless their custody is required in connection with any other offence.]"
            ]
          },
          "metadata": {},
          "execution_count": 15
        }
      ]
    },
    {
      "cell_type": "code",
      "source": [
        "sentence_scores={}\n",
        "for sent in sentence_tokens:\n",
        "  for word in sent:\n",
        "    if word.text.lower() in word_frequencies.keys():\n",
        "      if sent not in sentence_scores.keys():\n",
        "        sentence_scores[sent]=word_frequencies[word.text.lower()]\n",
        "      else:\n",
        "        sentence_scores[sent]+=word_frequencies[word.text.lower()]"
      ],
      "metadata": {
        "id": "XxsCIPyitOWM"
      },
      "execution_count": 16,
      "outputs": []
    },
    {
      "cell_type": "code",
      "source": [
        "sentence_scores"
      ],
      "metadata": {
        "colab": {
          "base_uri": "https://localhost:8080/"
        },
        "id": "1APrPSdst2KC",
        "outputId": "a357c566-8fe7-45e1-e9ff-f2aa0942d81e"
      },
      "execution_count": 17,
      "outputs": [
        {
          "output_type": "execute_result",
          "data": {
            "text/plain": [
              "{﻿WWW.LIVELAW.IN1                                              BOOTA SINGH V S STATE OF HARYANA LL 2021 SC 218.J U D G M E N T1: 0.12244897959183673,\n",
              " This appeal challenges the judgment and final order dated 03.03.2020 passed by the High Court of Punjab & Haryana at Chandigarh dismissing CR A-S-1759-SB-2004 preferred by the appellants and affirming their conviction and sentence under Section 15 of the Narcotic Drugs and Psychotropic Substances Act, 1985 (“the NDPS Act” for short).2: 1.0408163265306125,\n",
              " The basic facts and the case of prosecution as recorded by the HighCourt in its judgment are as under:“2.: 0.673469387755102,\n",
              " The facts as put forth by the prosecution are to the effect that on 28.01.2002, S.I. Nand Lal alongwith fellow police officials were present at the canal bridge on Surtia-Rori road, where he received a secret information to the effect that the accused are selling poppy straw in a vehicle bearing registration number GUD-4997 on a ‘kacha path’ at Rori-Jatana road and they can be apprehended if raid is conducted.  : 3.775510204081632,\n",
              " Accordingly, a raid was conducted and the accused were found sitting in the jeep bearing registration number GUD-4997 at the aforesaid place.: 1.4489795918367347,\n",
              " Major Singh, co-accused of the appellants, managed to slip away, whereas, the appellants were apprehend at the spot.: 1.142857142857143,\n",
              " They were found sitting upon two bags kept in the said jeep.: 0.5102040816326531,\n",
              " Notices under Section 50 of the Act were served upon them but the appellants reposed faith upon the police officials.: 0.7551020408163264,\n",
              " The search of the bags led to the recovery of poppy straw.: 0.5918367346938775,\n",
              " One bag was containing 39 kg of poppy straw and the second bag was containing 36 kg of poppy straw.: 0.7551020408163266,\n",
              " Two samples weighing 100 grams each were separated from each bag.: 0.20408163265306123,\n",
              " The sample parcels and the bulk parcels were converted into separate parcels and sealed with the seal bearing impression 'CS'.  : 0.7959183673469388,\n",
              " The jeep alongwith weighing scale, two weights of 500 grams each were also recovered and taken into possession vide recovery memos.: 0.5918367346938777,\n",
              " Ruqa was recorded and dispatched to the police station on the basis thereof, the FIR was registered.: 0.5918367346938775,\n",
              " Subsequently, Major Singh, co-accused, was arrested.: 0.6122448979591837,\n",
              " and on completion of investigation, the challan was presented in the Court.3 The charge was framed.: 0.14285714285714285,\n",
              " The contents thereof were read over and explained to the appellants, to which they pleaded not guilty and claimed trial.4: 0.48979591836734704,\n",
              " In support of its allegations, the prosecution has examined four witnesses.: 0.16326530612244897,\n",
              " Inspector Nand Lal (PW4) has conducted the search of the accused in the presence of ASI Jaswant Singh (PW3).: 0.9183673469387754,\n",
              " The case property was retained in the malkhana by Kuldeep Singh (PW2) and Constable Gurjit Singh (PW 1) took the sample parcels to the FSL.: 0.5714285714285715,\n",
              " The prosecution has also 2 of 10 produced documentary evidence to substantiate the version as put forth by it.”3.: 0.4489795918367347,\n",
              " By order dated 15.03.2002, on an application preferred by him, the vehicle in question was released by the Trial Court in favour of accused Gurdeep Singh.4.: 1.4081632653061225,\n",
              " During trial, PW4 Inspector Nand Lal, the Investigating Officer deposed in his examination-in-chief as under:“On 28.1.2002 I was posted as Sub Inspector/SHO in Police Station Rori.: 0.673469387755102,\n",
              " On that day, I alongwith ASI Jaswant Singh and other police officials were present at the canal bridge on Surtia Rori-road in connection with patrolling.: 0.7755102040816327,\n",
              " I received a secret information that all the accused are selling poppy straw in a vehicle bearing no.: 1.8163265306122445,\n",
              " GUD-4997 upon a 'Kacha Rasta at RoriJatana road and can be apprehended red handed if a raid is conducted.: 0.4693877551020408,\n",
              " I tried to join two persons who were going to water the fields in the investigations but they refused.: 0.16326530612244897,\n",
              " Thereafter I organised a raiding party and conducted a raid.: 0.2857142857142857,\n",
              " All the accused were found in the jeep bearing no GUD-4997, upon a kacha rasta by the side of Rori-Jatana Road, Upon seeing the police party, one of the accused, namely, Major fled the spot.: 2.0204081632653064,\n",
              " I knew the accused Major Singh since long.: 0.5918367346938775,\n",
              " Remaining three accused were apprehended at the spot.: 0.6734693877551019,\n",
              " Accused Boota Singh, Gurdeep Singh and Gurmahender Singh: 0.5510204081632653,\n",
              " alias Mitta were found sitting upon two bags lying in the said Jeep.: 0.6122448979591837,\n",
              " Thereafter, I served notices Ex.PC, Ex.PD and Ex.PE upon: 0.061224489795918366,\n",
              " accused Gurdeep, Boota and Gurmahender Singh respectively u/s 50 of NDPS asking them as to whether they desired their search before a gazetted officer or a Magistrate.: 1.142857142857143,\n",
              " Vide replies Exl.PC/1.1, Ex.PDA and Ex.: 0.04081632653061224,\n",
              " PE/I, accused Gurdeep Singh, Boota Singh andGurmahender Singh alias Mitta declined the offer and reposed faith in the police.: 1.0204081632653061,\n",
              " …”  In his cross-examination, the witness stated:-“I did not record the secret information in writing.: 1.3877551020408163,\n",
              " Wireless in my jeep was out of order at that time.: 0.32653061224489793,\n",
              " I did not obtain any search warrants for conducting the search of the jeep of accused during night hours.: 1.306122448979592,\n",
              " I did not record any ground for not obtaining the requisite search warrants in my police file.: 0.8367346938775511,\n",
              " The writing work was done while sitting in the jeep.”5.: 0.5510204081632654,\n",
              " After considering the evidence on record, the Trial Court by its judgment and order dated 12.08.2004, acquitted accused Major Singh but convicted accused Boota Singh, Gurdeep Singh and Gurmohinder Singh, under Section 15 of the NDPS Act and sentenced them to suffer rigorous imprisonment for 10 years with imposition of fine in the sum of Rs.1,00,000/-, in default whereof they were directed to undergo further rigorous imprisonment for a period of two years.: 2.387755102040815,\n",
              " On the question of applicability of Section 42 of the NDPS Act, the TrialCourt stated:-“ … Learned counsel sought acquittal of accused due to noncompliance of Section 42 of N.D.P.S. Act.  : 2.4693877551020407,\n",
              " However, above said argument could help the accused if recovery had been effected from the house, building etc. of the accused.: 1.4285714285714284,\n",
              " Admittedly, recovery in question was effected from the accused while they were sitting on road in a jeep at a public place.: 1.5306122448979593,\n",
              " Therefore, case of accused would be covered by Section 43 of N.D.P.S. Act and not by Section 42 of N.D.P.S. Act.: 1.6734693877551021,\n",
              " Under these circumstances, argument of learned counsels for accused is overruled.”6.: 0.8367346938775511,\n",
              " The convicted accused, being aggrieved, preferred the aforementionedCriminal Appeal before the High Court, which was dismissed by the High Court.: 0.7755102040816326,\n",
              " On the question whether the matter came within the scope of Section 42 of the NDPS Act, the High Court observed:-14.: 0.7959183673469388,\n",
              " Furthermore, in the case in hand, the accused were present in a jeep on a public path and in such circumstance, the provisions of Section 43 and not of 42 of the Act come into play.: 2.4489795918367347,\n",
              " As per explanation to Section 43 of the Act, the public place includes a conveyance also.: 0.7346938775510204,\n",
              " Section 43 of the Act contemplates a seizure made in a public place or in transit.: 0.6938775510204082,\n",
              " As such, Section 42 of the Act is not applicable to the facts of the present case …” 7.: 1.2244897959183674,\n",
              " In this appeal preferred by Boota Singh, Gurdeep Singh and Gurmohinder Singh challenging the correctness of the decisions of the courts below, we heard Mr. Praveen Kumar, learned counsel for the appellants and Mr. Rakesh Mudgal, learned AAG for the State.8.: 0.8367346938775511,\n",
              " Mr. Praveen Kumar submitted inter alia:a. The vehicle in question was a private vehicle belonging to accused Gurdeep Singh and was not a publicconveyance, though parked on a public road.b.: 1.7959183673469388,\n",
              " As accepted by PW4 Inspector Nand Lal, the secret information was not recorded in writing nor any grounds were recorded for not obtaining the requisite search warrants.c.: 1.2653061224489797,\n",
              " The instant case would not be come under Section 43 but would be governed by the provisions of Section 42 of the NDPS Act.d.: 1.3673469387755102,\n",
              " Section 42 having not been complied with at all, the appellants were entitled to acquittal in terms of law laid down in the Constitution Bench decision of this Court in Karnail Singh v. State of Haryana (2009) 8 SCC 539, followed in subsequent decisions in Sukhdev Singh v. State ofHaryana (2013) 2 SCC 212, and, State of Rajasthan v. Jagraj Singh alias Hansa (2016) 11 SCC 687.9.: 1.714285714285715,\n",
              " Countering the submissions, Mr. Rakesh Mudgal, learned AAGsubmitted that the courts below were right in observing that the instant case would be governed by the provisions of Section 43 of the NDPS Act.  : 1.306122448979592,\n",
              " It was however accepted by the learned counsel that there was no material on record to conclude that the vehicle in question was a public conveyance.110.: 1.183673469387755,\n",
              " In Karnail Singh , the Constitution Bench of this Court concluded:-“35.: 0.02040816326530612,\n",
              " In conclusion, what is to be noticed is that Abdul Rashid [(2000) 2 SCC 513 : 2000 SCC (Cri) 496] did not require literal compliance with the requirements of Sections 42(1) and 42(2) nor did Sajan Abraham [(2001) 6 SCC 692 : 2001 SCC (Cri) 1217] hold that the requirements of Sections 42(1) and 42(2) need not be fulfilled at all.: 1.8979591836734697,\n",
              " The effect of the two decisions was as follows:(a): 0.2040816326530612,\n",
              " The officer on receiving the information [of thenature referred to in sub-section (1) of Section 42] from any person had to record it in writing in the register concerned and forthwith send a copy to his immediate official superior, before proceeding to take action in terms of clauses (a) to (d) of Section 42(1).(b): 2.673469387755102,\n",
              " But if the information was received when the officerwas not in the police station, but while he was on the move either on patrol duty or otherwise, either by mobile phone, or other means, and the information calls for immediate action and any delay would have resulted in the goods or evidence being removed or destroyed, it would not be feasible or practical to take down in writing the information given to him, in such a situation, he could take action as per clauses (a) to (d) of Section 42(1) and thereafter, as soon as it is practical, record the information in writing and forthwith inform the same to the official superior.(c): 4.040816326530612,\n",
              " In other words, the compliance with the requirementsof Sections 42(1) and 42(2) in regard to writing down the information received and sending a copy thereof to the superior officer, should normally precede the entry, search and seizure by the officer.: 2.73469387755102,\n",
              " But in special circumstances involving emergent situations, the recording of the information in writing and sending a copy thereof to the official superior may get postponed by a reasonable period, that is, after the search, entry and seizure.: 1.7346938775510203,\n",
              " The question is one of urgency and expediency.(d) While total non-compliance with requirements of subsections (1) and (2) of Section 42 is impermissible, delayed compliance with satisfactory explanation about the delay will be acceptable compliance with Section 42.: 3.2857142857142865,\n",
              " To illustrate, if any delay may result in the accused escaping or the goods or evidence being destroyed or removed, not recording in writing the information received, before initiating action, or non-sending of a copy of such information to the official superior forthwith, may not be treated as violation of Section 42.: 3.469387755102041,\n",
              " But if the information was received when the police officer was in the police station with sufficient time to take action, and if the police officer fails to record in writing the information received, or fails to send a copy thereof, to the official superior, then it will be a suspicious circumstance being a clear violation of Section 42 of the Act.: 4.122448979591836,\n",
              " Similarly, where the police officer does not record the information at all, and does not inform the official superior at all, then also it will be a clear violation of Section 42 of the Act.: 1.9387755102040818,\n",
              " Whether there is adequate or substantial compliance with Section 42 or not is a question of fact to be decided in each case.: 1.4693877551020407,\n",
              " The above position got strengthened with the amendment to Section 42 by Act 9 of 2001.”(Emphasis added)311.: 0.6734693877551021,\n",
              " In Jagraj Singh alias Hansa , the facts were more or less identical.: 0.2040816326530612,\n",
              " In that case, the vehicle (as observed in para 5.3 of the decision) was not a public transport vehicle.  : 1.7142857142857144,\n",
              " After considering the relevant provisions and some1 of the decisions of this Court including the decision in Karnail Singh , it was observed:-“14.: 0.4693877551020409,\n",
              " What Section 42(2) requires is that where an officer takes down an information in writing under sub-section (1) he shall send a copy thereof to his immediate officer senior.: 1.795918367346939,\n",
              " The communication Ext. P-15 which was sent to the Circle Officer, Nohar was not as per the information recorded in Ext. P-14 and Ext. P-21.: 0.6938775510204082,\n",
              " Thus, no error was committed by the High Court in coming to the conclusion that there was breach of Section 42(2).\t. . . . .  \t. . . . .  . . . .: 0.8571428571428572,\n",
              " .16.: 0.02040816326530612,\n",
              " In this context, it is relevant to note that before the Special Judge also the breach of Sections 42(1) and 42(2) was contended on behalf of the defence.: 0.653061224489796,\n",
              " In para 12 of the judgment the Special Judge noted the above arguments of defence.: 0.3061224489795918,\n",
              " However, the arguments based on non-compliance with Section 42(2) were brushed aside by observing that discrepancy in Ext. P-14: 1.0204081632653061,\n",
              " is totally due to clerical mistake and there was compliance with Section 42(2).: 0.673469387755102,\n",
              " The Special Judge coming to compliance with the proviso to Section 42(1) held that the vehicle searched was being used to transport passengers as has been clearly stated by its owner Vira Ram, hence, as per the Explanation to Section 43 of the Act, the vehicle was a public transport vehicle and there was no need of any warrant or authority to search such a vehicle.: 3.2448979591836733,\n",
              " The High Court has reversed the above findings of the Special Judge.: 0.061224489795918366,\n",
              " We thus, proceed to examine as to whether Section 43 was attracted in the present case which obviated the requirement of Section 42(1) proviso.\t. . . . .  \t. . . . .  . . . .: 1.5510204081632653,\n",
              " .29.: 0.02040816326530612,\n",
              " After referring to the earlier judgments, the Constitution Bench came to the conclusion that non-compliance with requirement of Sections 42 and 50 is impermissible whereas delayed compliance with satisfactory explanation will be acceptable compliance with Section 42.: 2.9183673469387754,\n",
              " The Constitution Bench noted the effect of the aforesaid two decisions in para 5.: 0.3469387755102041,\n",
              " The present is not a case where insofar as compliance with Section 42(1) proviso even an argument based on substantial compliance is raised there is total non-compliance with Section 42(1) proviso.: 2.6938775510204085,\n",
              " As observed above, Section 43 being not attracted, search was to be conducted after complying with the provisions of Section 42.: 1.3673469387755102,\n",
              " We thus, conclude that the High Court has rightly held that non-compliance with Section 42(1) and Section 42(2) were proved on the record and the High Court has not committed any error in setting aside the conviction order.: 1.6938775510204085,\n",
              " added)12.: 0.02040816326530612,\n",
              " The evidence in the present case clearly shows that the vehicle was not a public conveyance but was a vehicle belonging to accused Gurdeep Singh.  : 2.387755102040816,\n",
              " The Registration Certificate of the vehicle, which has been placed on record also does not indicate it to be a Public Transport Vehicle.  : 1.489795918367347,\n",
              " The explanation to Section 43 shows that a private vehicle would not come within the expression “public place” as explained in Section 43 of the NDPSAct.  : 1.9387755102040818,\n",
              " On the strength of the decision  of this Court in Jagraj Singh alias3Hansa , the relevant provision would not be Section 43 of the NDPS Act but the case would come under Section 42 of the NDPS Act.: 1.6734693877551021,\n",
              " 13.: 0.02040816326530612,\n",
              " It is an admitted position that there was total non-compliance of the requirements of Section 42 of the NDPS Act.114.: 1.3265306122448979,\n",
              " The decision of this Court in Karnail Singh as followed in Jagraj3Singh alias Hansa , is absolutely clear.  : 0.6122448979591837,\n",
              " Total non-compliance of Section 42 is impermissible.  : 1.5306122448979593,\n",
              " The rigor of Section 42 may get lessened in situations1dealt with in the conclusion drawn by this Court in Karnail Singh but in no case, total non-compliance of Section 42 can be accepted.15.: 2.183673469387755,\n",
              " In the circumstances, the courts below fell in error in rejecting the submissions advanced on behalf of the appellants.: 0.5306122448979592,\n",
              " We, therefore, allow this appeal, set-aside the view taken by the High Court and acquit the appellants of the charge levelled against them.: 0.510204081632653,\n",
              " The appellants be released forthwith unless their custody is required in connection with any other offence.: 0.4285714285714286}"
            ]
          },
          "metadata": {},
          "execution_count": 17
        }
      ]
    },
    {
      "cell_type": "code",
      "source": [
        "from heapq import nlargest"
      ],
      "metadata": {
        "id": "mrQfOcWCuVEJ"
      },
      "execution_count": 18,
      "outputs": []
    },
    {
      "cell_type": "code",
      "source": [
        "select_length=int(len(sentence_tokens)*0.2)\n",
        "select_length"
      ],
      "metadata": {
        "colab": {
          "base_uri": "https://localhost:8080/"
        },
        "id": "-vLJkabrvuvk",
        "outputId": "ba635aaf-7f85-4731-d8ce-9589c09c6cb4"
      },
      "execution_count": 19,
      "outputs": [
        {
          "output_type": "execute_result",
          "data": {
            "text/plain": [
              "22"
            ]
          },
          "metadata": {},
          "execution_count": 19
        }
      ]
    },
    {
      "cell_type": "code",
      "source": [
        "summary=nlargest(select_length,sentence_scores,key=sentence_scores.get)"
      ],
      "metadata": {
        "id": "47bfDJnWv5_m"
      },
      "execution_count": 20,
      "outputs": []
    },
    {
      "cell_type": "code",
      "source": [
        "summary"
      ],
      "metadata": {
        "colab": {
          "base_uri": "https://localhost:8080/"
        },
        "id": "jiB7gGvswyUy",
        "outputId": "bc7e3f24-df59-4874-a361-2cd8ad8619e5"
      },
      "execution_count": 21,
      "outputs": [
        {
          "output_type": "execute_result",
          "data": {
            "text/plain": [
              "[But if the information was received when the police officer was in the police station with sufficient time to take action, and if the police officer fails to record in writing the information received, or fails to send a copy thereof, to the official superior, then it will be a suspicious circumstance being a clear violation of Section 42 of the Act.,\n",
              " But if the information was received when the officerwas not in the police station, but while he was on the move either on patrol duty or otherwise, either by mobile phone, or other means, and the information calls for immediate action and any delay would have resulted in the goods or evidence being removed or destroyed, it would not be feasible or practical to take down in writing the information given to him, in such a situation, he could take action as per clauses (a) to (d) of Section 42(1) and thereafter, as soon as it is practical, record the information in writing and forthwith inform the same to the official superior.(c),\n",
              " The facts as put forth by the prosecution are to the effect that on 28.01.2002, S.I. Nand Lal alongwith fellow police officials were present at the canal bridge on Surtia-Rori road, where he received a secret information to the effect that the accused are selling poppy straw in a vehicle bearing registration number GUD-4997 on a ‘kacha path’ at Rori-Jatana road and they can be apprehended if raid is conducted.  ,\n",
              " To illustrate, if any delay may result in the accused escaping or the goods or evidence being destroyed or removed, not recording in writing the information received, before initiating action, or non-sending of a copy of such information to the official superior forthwith, may not be treated as violation of Section 42.,\n",
              " The question is one of urgency and expediency.(d) While total non-compliance with requirements of subsections (1) and (2) of Section 42 is impermissible, delayed compliance with satisfactory explanation about the delay will be acceptable compliance with Section 42.,\n",
              " The Special Judge coming to compliance with the proviso to Section 42(1) held that the vehicle searched was being used to transport passengers as has been clearly stated by its owner Vira Ram, hence, as per the Explanation to Section 43 of the Act, the vehicle was a public transport vehicle and there was no need of any warrant or authority to search such a vehicle.,\n",
              " After referring to the earlier judgments, the Constitution Bench came to the conclusion that non-compliance with requirement of Sections 42 and 50 is impermissible whereas delayed compliance with satisfactory explanation will be acceptable compliance with Section 42.,\n",
              " In other words, the compliance with the requirementsof Sections 42(1) and 42(2) in regard to writing down the information received and sending a copy thereof to the superior officer, should normally precede the entry, search and seizure by the officer.,\n",
              " The present is not a case where insofar as compliance with Section 42(1) proviso even an argument based on substantial compliance is raised there is total non-compliance with Section 42(1) proviso.,\n",
              " The officer on receiving the information [of thenature referred to in sub-section (1) of Section 42] from any person had to record it in writing in the register concerned and forthwith send a copy to his immediate official superior, before proceeding to take action in terms of clauses (a) to (d) of Section 42(1).(b),\n",
              " On the question of applicability of Section 42 of the NDPS Act, the TrialCourt stated:-“ … Learned counsel sought acquittal of accused due to noncompliance of Section 42 of N.D.P.S. Act.  ,\n",
              " Furthermore, in the case in hand, the accused were present in a jeep on a public path and in such circumstance, the provisions of Section 43 and not of 42 of the Act come into play.,\n",
              " The evidence in the present case clearly shows that the vehicle was not a public conveyance but was a vehicle belonging to accused Gurdeep Singh.  ,\n",
              " After considering the evidence on record, the Trial Court by its judgment and order dated 12.08.2004, acquitted accused Major Singh but convicted accused Boota Singh, Gurdeep Singh and Gurmohinder Singh, under Section 15 of the NDPS Act and sentenced them to suffer rigorous imprisonment for 10 years with imposition of fine in the sum of Rs.1,00,000/-, in default whereof they were directed to undergo further rigorous imprisonment for a period of two years.,\n",
              " The rigor of Section 42 may get lessened in situations1dealt with in the conclusion drawn by this Court in Karnail Singh but in no case, total non-compliance of Section 42 can be accepted.15.,\n",
              " All the accused were found in the jeep bearing no GUD-4997, upon a kacha rasta by the side of Rori-Jatana Road, Upon seeing the police party, one of the accused, namely, Major fled the spot.,\n",
              " Similarly, where the police officer does not record the information at all, and does not inform the official superior at all, then also it will be a clear violation of Section 42 of the Act.,\n",
              " The explanation to Section 43 shows that a private vehicle would not come within the expression “public place” as explained in Section 43 of the NDPSAct.  ,\n",
              " In conclusion, what is to be noticed is that Abdul Rashid [(2000) 2 SCC 513 : 2000 SCC (Cri) 496] did not require literal compliance with the requirements of Sections 42(1) and 42(2) nor did Sajan Abraham [(2001) 6 SCC 692 : 2001 SCC (Cri) 1217] hold that the requirements of Sections 42(1) and 42(2) need not be fulfilled at all.,\n",
              " I received a secret information that all the accused are selling poppy straw in a vehicle bearing no.,\n",
              " What Section 42(2) requires is that where an officer takes down an information in writing under sub-section (1) he shall send a copy thereof to his immediate officer senior.,\n",
              " Mr. Praveen Kumar submitted inter alia:a. The vehicle in question was a private vehicle belonging to accused Gurdeep Singh and was not a publicconveyance, though parked on a public road.b.]"
            ]
          },
          "metadata": {},
          "execution_count": 21
        }
      ]
    },
    {
      "cell_type": "code",
      "source": [
        "final_summary=[word.text for word in summary]"
      ],
      "metadata": {
        "id": "TbvbG1PHw1k5"
      },
      "execution_count": 22,
      "outputs": []
    },
    {
      "cell_type": "code",
      "source": [
        "summary=''.join(final_summary)"
      ],
      "metadata": {
        "id": "2cmiWh-2xNMh"
      },
      "execution_count": 23,
      "outputs": []
    },
    {
      "cell_type": "code",
      "source": [
        "summary"
      ],
      "metadata": {
        "colab": {
          "base_uri": "https://localhost:8080/",
          "height": 140
        },
        "id": "Q_pEI_AixTK9",
        "outputId": "6cd7de1f-5e82-4dd7-dff2-cde709536dd6"
      },
      "execution_count": 24,
      "outputs": [
        {
          "output_type": "execute_result",
          "data": {
            "text/plain": [
              "'But if the information was received when the police officer was in the police station with sufficient time to take action, and if the police officer fails to record in writing the information received, or fails to send a copy thereof, to the official superior, then it will be a suspicious circumstance being a clear violation of Section 42 of the Act.But if the information was received when the officerwas not in the police station, but while he was on the move either on patrol duty or otherwise, either by mobile phone, or other means, and the information calls for immediate action and any delay would have resulted in the goods or evidence being removed or destroyed, it would not be feasible or practical to take down in writing the information given to him, in such a situation, he could take action as per clauses (a) to (d) of Section 42(1) and thereafter, as soon as it is practical, record the information in writing and forthwith inform the same to the official superior.(c)The facts as put forth by the prosecution are to the effect that on 28.01.2002, S.I. Nand Lal alongwith fellow police officials were present at the canal bridge on Surtia-Rori road, where he received a secret information to the effect that the accused are selling poppy straw in a vehicle bearing registration number GUD-4997 on a ‘kacha path’ at Rori-Jatana road and they can be apprehended if raid is conducted.  To illustrate, if any delay may result in the accused escaping or the goods or evidence being destroyed or removed, not recording in writing the information received, before initiating action, or non-sending of a copy of such information to the official superior forthwith, may not be treated as violation of Section 42.The question is one of urgency and expediency.(d) While total non-compliance with requirements of subsections (1) and (2) of Section 42 is impermissible, delayed compliance with satisfactory explanation about the delay will be acceptable compliance with Section 42.The Special Judge coming to compliance with the proviso to Section 42(1) held that the vehicle searched was being used to transport passengers as has been clearly stated by its owner Vira Ram, hence, as per the Explanation to Section 43 of the Act, the vehicle was a public transport vehicle and there was no need of any warrant or authority to search such a vehicle.After referring to the earlier judgments, the Constitution Bench came to the conclusion that non-compliance with requirement of Sections 42 and 50 is impermissible whereas delayed compliance with satisfactory explanation will be acceptable compliance with Section 42.In other words, the compliance with the requirementsof Sections 42(1) and 42(2) in regard to writing down the information received and sending a copy thereof to the superior officer, should normally precede the entry, search and seizure by the officer.The present is not a case where insofar as compliance with Section 42(1) proviso even an argument based on substantial compliance is raised there is total non-compliance with Section 42(1) proviso.The officer on receiving the information [of thenature referred to in sub-section (1) of Section 42] from any person had to record it in writing in the register concerned and forthwith send a copy to his immediate official superior, before proceeding to take action in terms of clauses (a) to (d) of Section 42(1).(b)On the question of applicability of Section 42 of the NDPS Act, the TrialCourt stated:-“ … Learned counsel sought acquittal of accused due to noncompliance of Section 42 of N.D.P.S. Act.  Furthermore, in the case in hand, the accused were present in a jeep on a public path and in such circumstance, the provisions of Section 43 and not of 42 of the Act come into play.The evidence in the present case clearly shows that the vehicle was not a public conveyance but was a vehicle belonging to accused Gurdeep Singh.  After considering the evidence on record, the Trial Court by its judgment and order dated 12.08.2004, acquitted accused Major Singh but convicted accused Boota Singh, Gurdeep Singh and Gurmohinder Singh, under Section 15 of the NDPS Act and sentenced them to suffer rigorous imprisonment for 10 years with imposition of fine in the sum of Rs.1,00,000/-, in default whereof they were directed to undergo further rigorous imprisonment for a period of two years.The rigor of Section 42 may get lessened in situations1dealt with in the conclusion drawn by this Court in Karnail Singh but in no case, total non-compliance of Section 42 can be accepted.15.All the accused were found in the jeep bearing no GUD-4997, upon a kacha rasta by the side of Rori-Jatana Road, Upon seeing the police party, one of the accused, namely, Major fled the spot.Similarly, where the police officer does not record the information at all, and does not inform the official superior at all, then also it will be a clear violation of Section 42 of the Act.The explanation to Section 43 shows that a private vehicle would not come within the expression “public place” as explained in Section 43 of the NDPSAct.  In conclusion, what is to be noticed is that Abdul Rashid [(2000) 2 SCC 513 : 2000 SCC (Cri) 496] did not require literal compliance with the requirements of Sections 42(1) and 42(2) nor did Sajan Abraham [(2001) 6 SCC 692 : 2001 SCC (Cri) 1217] hold that the requirements of Sections 42(1) and 42(2) need not be fulfilled at all.I received a secret information that all the accused are selling poppy straw in a vehicle bearing no.What Section 42(2) requires is that where an officer takes down an information in writing under sub-section (1) he shall send a copy thereof to his immediate officer senior.Mr. Praveen Kumar submitted inter alia:a. The vehicle in question was a private vehicle belonging to accused Gurdeep Singh and was not a publicconveyance, though parked on a public road.b.'"
            ],
            "application/vnd.google.colaboratory.intrinsic+json": {
              "type": "string"
            }
          },
          "metadata": {},
          "execution_count": 24
        }
      ]
    },
    {
      "cell_type": "code",
      "source": [
        "data"
      ],
      "metadata": {
        "colab": {
          "base_uri": "https://localhost:8080/",
          "height": 140
        },
        "id": "p9MIJTgTxfXs",
        "outputId": "165b8235-5b40-4df0-cf4a-812b6f299d42"
      },
      "execution_count": 25,
      "outputs": [
        {
          "output_type": "execute_result",
          "data": {
            "text/plain": [
              "\"\\ufeffWWW.LIVELAW.IN1                                              BOOTA SINGH V S STATE OF HARYANA LL 2021 SC 218.J U D G M E N T1 This appeal challenges the judgment and final order dated 03.03.2020 passed by the High Court of Punjab & Haryana at Chandigarh dismissing CR A-S-1759-SB-2004 preferred by the appellants and affirming their conviction and sentence under Section 15 of the Narcotic Drugs and Psychotropic Substances Act, 1985 (“the NDPS Act” for short).2 The basic facts and the case of prosecution as recorded by the HighCourt in its judgment are as under:“2. The facts as put forth by the prosecution are to the effect that on 28.01.2002, S.I. Nand Lal alongwith fellow police officials were present at the canal bridge on Surtia-Rori road, where he received a secret information to the effect that the accused are selling poppy straw in a vehicle bearing registration number GUD-4997 on a ‘kacha path’ at Rori-Jatana road and they can be apprehended if raid is conducted.  Accordingly, a raid was conducted and the accused were found sitting in the jeep bearing registration number GUD-4997 at the aforesaid place. Major Singh, co-accused of the appellants, managed to slip away, whereas, the appellants were apprehend at the spot. They were found sitting upon two bags kept in the said jeep. Notices under Section 50 of the Act were served upon them but the appellants reposed faith upon the police officials. The search of the bags led to the recovery of poppy straw. One bag was containing 39 kg of poppy straw and the second bag was containing 36 kg of poppy straw. Two samples weighing 100 grams each were separated from each bag. The sample parcels and the bulk parcels were converted into separate parcels and sealed with the seal bearing impression 'CS'.  The jeep alongwith weighing scale, two weights of 500 grams each were also recovered and taken into possession vide recovery memos. Ruqa was recorded and dispatched to the police station on the basis thereof, the FIR was registered. Subsequently, Major Singh, co-accused, was arrested. and on completion of investigation, the challan was presented in the Court.3 The charge was framed. The contents thereof were read over and explained to the appellants, to which they pleaded not guilty and claimed trial.4 In support of its allegations, the prosecution has examined four witnesses. Inspector Nand Lal (PW4) has conducted the search of the accused in the presence of ASI Jaswant Singh (PW3). The case property was retained in the malkhana by Kuldeep Singh (PW2) and Constable Gurjit Singh (PW 1) took the sample parcels to the FSL. The prosecution has also 2 of 10 produced documentary evidence to substantiate the version as put forth by it.”3. By order dated 15.03.2002, on an application preferred by him, the vehicle in question was released by the Trial Court in favour of accused Gurdeep Singh.4. During trial, PW4 Inspector Nand Lal, the Investigating Officer deposed in his examination-in-chief as under:“On 28.1.2002 I was posted as Sub Inspector/SHO in Police Station Rori. On that day, I alongwith ASI Jaswant Singh and other police officials were present at the canal bridge on Surtia Rori-road in connection with patrolling. I received a secret information that all the accused are selling poppy straw in a vehicle bearing no.GUD-4997 upon a 'Kacha Rasta at RoriJatana road and can be apprehended red handed if a raid is conducted. I tried to join two persons who were going to water the fields in the investigations but they refused. Thereafter I organised a raiding party and conducted a raid. All the accused were found in the jeep bearing no GUD-4997, upon a kacha rasta by the side of Rori-Jatana Road, Upon seeing the police party, one of the accused, namely, Major fled the spot. I knew the accused Major Singh since long. Remaining three accused were apprehended at the spot. Accused Boota Singh, Gurdeep Singh and Gurmahender Singh alias Mitta were found sitting upon two bags lying in the said Jeep. Thereafter, I served notices Ex.PC, Ex.PD and Ex.PE upon accused Gurdeep, Boota and Gurmahender Singh respectively u/s 50 of NDPS asking them as to whether they desired their search before a gazetted officer or a Magistrate. Vide replies Exl.PC/1.1, Ex.PDA and Ex.PE/I, accused Gurdeep Singh, Boota Singh andGurmahender Singh alias Mitta declined the offer and reposed faith in the police. …”  In his cross-examination, the witness stated:-“I did not record the secret information in writing. Wireless in my jeep was out of order at that time. I did not obtain any search warrants for conducting the search of the jeep of accused during night hours. I did not record any ground for not obtaining the requisite search warrants in my police file. The writing work was done while sitting in the jeep.”5. After considering the evidence on record, the Trial Court by its judgment and order dated 12.08.2004, acquitted accused Major Singh but convicted accused Boota Singh, Gurdeep Singh and Gurmohinder Singh, under Section 15 of the NDPS Act and sentenced them to suffer rigorous imprisonment for 10 years with imposition of fine in the sum of Rs.1,00,000/-, in default whereof they were directed to undergo further rigorous imprisonment for a period of two years.On the question of applicability of Section 42 of the NDPS Act, the TrialCourt stated:-“ … Learned counsel sought acquittal of accused due to noncompliance of Section 42 of N.D.P.S. Act.  However, above said argument could help the accused if recovery had been effected from the house, building etc. of the accused. Admittedly, recovery in question was effected from the accused while they were sitting on road in a jeep at a public place. Therefore, case of accused would be covered by Section 43 of N.D.P.S. Act and not by Section 42 of N.D.P.S. Act. Under these circumstances, argument of learned counsels for accused is overruled.”6. The convicted accused, being aggrieved, preferred the aforementionedCriminal Appeal before the High Court, which was dismissed by the High Court.On the question whether the matter came within the scope of Section 42 of the NDPS Act, the High Court observed:-14. Furthermore, in the case in hand, the accused were present in a jeep on a public path and in such circumstance, the provisions of Section 43 and not of 42 of the Act come into play. As per explanation to Section 43 of the Act, the public place includes a conveyance also. Section 43 of the Act contemplates a seizure made in a public place or in transit. As such, Section 42 of the Act is not applicable to the facts of the present case …” 7. In this appeal preferred by Boota Singh, Gurdeep Singh and Gurmohinder Singh challenging the correctness of the decisions of the courts below, we heard Mr. Praveen Kumar, learned counsel for the appellants and Mr. Rakesh Mudgal, learned AAG for the State.8. Mr. Praveen Kumar submitted inter alia:a. The vehicle in question was a private vehicle belonging to accused Gurdeep Singh and was not a publicconveyance, though parked on a public road.b. As accepted by PW4 Inspector Nand Lal, the secret information was not recorded in writing nor any grounds were recorded for not obtaining the requisite search warrants.c. The instant case would not be come under Section 43 but would be governed by the provisions of Section 42 of the NDPS Act.d. Section 42 having not been complied with at all, the appellants were entitled to acquittal in terms of law laid down in the Constitution Bench decision of this Court in Karnail Singh v. State of Haryana (2009) 8 SCC 539, followed in subsequent decisions in Sukhdev Singh v. State ofHaryana (2013) 2 SCC 212, and, State of Rajasthan v. Jagraj Singh alias Hansa (2016) 11 SCC 687.9. Countering the submissions, Mr. Rakesh Mudgal, learned AAGsubmitted that the courts below were right in observing that the instant case would be governed by the provisions of Section 43 of the NDPS Act.  It was however accepted by the learned counsel that there was no material on record to conclude that the vehicle in question was a public conveyance.110. In Karnail Singh , the Constitution Bench of this Court concluded:-“35. In conclusion, what is to be noticed is that Abdul Rashid [(2000) 2 SCC 513 : 2000 SCC (Cri) 496] did not require literal compliance with the requirements of Sections 42(1) and 42(2) nor did Sajan Abraham [(2001) 6 SCC 692 : 2001 SCC (Cri) 1217] hold that the requirements of Sections 42(1) and 42(2) need not be fulfilled at all. The effect of the two decisions was as follows:(a) The officer on receiving the information [of thenature referred to in sub-section (1) of Section 42] from any person had to record it in writing in the register concerned and forthwith send a copy to his immediate official superior, before proceeding to take action in terms of clauses (a) to (d) of Section 42(1).(b) But if the information was received when the officerwas not in the police station, but while he was on the move either on patrol duty or otherwise, either by mobile phone, or other means, and the information calls for immediate action and any delay would have resulted in the goods or evidence being removed or destroyed, it would not be feasible or practical to take down in writing the information given to him, in such a situation, he could take action as per clauses (a) to (d) of Section 42(1) and thereafter, as soon as it is practical, record the information in writing and forthwith inform the same to the official superior.(c) In other words, the compliance with the requirementsof Sections 42(1) and 42(2) in regard to writing down the information received and sending a copy thereof to the superior officer, should normally precede the entry, search and seizure by the officer. But in special circumstances involving emergent situations, the recording of the information in writing and sending a copy thereof to the official superior may get postponed by a reasonable period, that is, after the search, entry and seizure. The question is one of urgency and expediency.(d) While total non-compliance with requirements of subsections (1) and (2) of Section 42 is impermissible, delayed compliance with satisfactory explanation about the delay will be acceptable compliance with Section 42. To illustrate, if any delay may result in the accused escaping or the goods or evidence being destroyed or removed, not recording in writing the information received, before initiating action, or non-sending of a copy of such information to the official superior forthwith, may not be treated as violation of Section 42. But if the information was received when the police officer was in the police station with sufficient time to take action, and if the police officer fails to record in writing the information received, or fails to send a copy thereof, to the official superior, then it will be a suspicious circumstance being a clear violation of Section 42 of the Act. Similarly, where the police officer does not record the information at all, and does not inform the official superior at all, then also it will be a clear violation of Section 42 of the Act. Whether there is adequate or substantial compliance with Section 42 or not is a question of fact to be decided in each case. The above position got strengthened with the amendment to Section 42 by Act 9 of 2001.”(Emphasis added)311. In Jagraj Singh alias Hansa , the facts were more or less identical. In that case, the vehicle (as observed in para 5.3 of the decision) was not a public transport vehicle.  After considering the relevant provisions and some1 of the decisions of this Court including the decision in Karnail Singh , it was observed:-“14. What Section 42(2) requires is that where an officer takes down an information in writing under sub-section (1) he shall send a copy thereof to his immediate officer senior. The communication Ext. P-15 which was sent to the Circle Officer, Nohar was not as per the information recorded in Ext. P-14 and Ext. P-21. Thus, no error was committed by the High Court in coming to the conclusion that there was breach of Section 42(2).\\t. . . . .  \\t. . . . .  . . . . .16. In this context, it is relevant to note that before the Special Judge also the breach of Sections 42(1) and 42(2) was contended on behalf of the defence. In para 12 of the judgment the Special Judge noted the above arguments of defence. However, the arguments based on non-compliance with Section 42(2) were brushed aside by observing that discrepancy in Ext. P-14 and Ext. P-15 is totally due to clerical mistake and there was compliance with Section 42(2). The Special Judge coming to compliance with the proviso to Section 42(1) held that the vehicle searched was being used to transport passengers as has been clearly stated by its owner Vira Ram, hence, as per the Explanation to Section 43 of the Act, the vehicle was a public transport vehicle and there was no need of any warrant or authority to search such a vehicle. The High Court has reversed the above findings of the Special Judge. We thus, proceed to examine as to whether Section 43 was attracted in the present case which obviated the requirement of Section 42(1) proviso.\\t. . . . .  \\t. . . . .  . . . . .29. After referring to the earlier judgments, the Constitution Bench came to the conclusion that non-compliance with requirement of Sections 42 and 50 is impermissible whereas delayed compliance with satisfactory explanation will be acceptable compliance with Section 42. The Constitution Bench noted the effect of the aforesaid two decisions in para 5. The present is not a case where insofar as compliance with Section 42(1) proviso even an argument based on substantial compliance is raised there is total non-compliance with Section 42(1) proviso. As observed above, Section 43 being not attracted, search was to be conducted after complying with the provisions of Section 42. We thus, conclude that the High Court has rightly held that non-compliance with Section 42(1) and Section 42(2) were proved on the record and the High Court has not committed any error in setting aside the conviction order.”(Emphasis added)12. The evidence in the present case clearly shows that the vehicle was not a public conveyance but was a vehicle belonging to accused Gurdeep Singh.  The Registration Certificate of the vehicle, which has been placed on record also does not indicate it to be a Public Transport Vehicle.  The explanation to Section 43 shows that a private vehicle would not come within the expression “public place” as explained in Section 43 of the NDPSAct.  On the strength of the decision  of this Court in Jagraj Singh alias3Hansa , the relevant provision would not be Section 43 of the NDPS Act but the case would come under Section 42 of the NDPS Act. 13. It is an admitted position that there was total non-compliance of the requirements of Section 42 of the NDPS Act.114. The decision of this Court in Karnail Singh as followed in Jagraj3Singh alias Hansa , is absolutely clear.  Total non-compliance of Section 42 is impermissible.  The rigor of Section 42 may get lessened in situations1dealt with in the conclusion drawn by this Court in Karnail Singh but in no case, total non-compliance of Section 42 can be accepted.15. In the circumstances, the courts below fell in error in rejecting the submissions advanced on behalf of the appellants. We, therefore, allow this appeal, set-aside the view taken by the High Court and acquit the appellants of the charge levelled against them. The appellants be released forthwith unless their custody is required in connection with any other offence.\""
            ],
            "application/vnd.google.colaboratory.intrinsic+json": {
              "type": "string"
            }
          },
          "metadata": {},
          "execution_count": 25
        }
      ]
    },
    {
      "cell_type": "code",
      "source": [
        "len(data)"
      ],
      "metadata": {
        "colab": {
          "base_uri": "https://localhost:8080/"
        },
        "id": "2Jk9o8Sexw_W",
        "outputId": "fda11e68-f91d-46d0-8a39-4beec917ca11"
      },
      "execution_count": 26,
      "outputs": [
        {
          "output_type": "execute_result",
          "data": {
            "text/plain": [
              "15618"
            ]
          },
          "metadata": {},
          "execution_count": 26
        }
      ]
    },
    {
      "cell_type": "code",
      "source": [
        "len(summary)"
      ],
      "metadata": {
        "colab": {
          "base_uri": "https://localhost:8080/"
        },
        "id": "ns4OYc0Gx2JM",
        "outputId": "70cf8f9f-584d-4221-9a72-c2bafec23772"
      },
      "execution_count": 27,
      "outputs": [
        {
          "output_type": "execute_result",
          "data": {
            "text/plain": [
              "5880"
            ]
          },
          "metadata": {},
          "execution_count": 27
        }
      ]
    }
  ]
}